{
 "cells": [
  {
   "cell_type": "code",
   "execution_count": 1,
   "id": "04761bc4",
   "metadata": {},
   "outputs": [],
   "source": [
    "from SpellChecker import SpellChecker\n",
    "from collections import Counter\n",
    "import re"
   ]
  },
  {
   "cell_type": "code",
   "execution_count": 2,
   "id": "f48b706d",
   "metadata": {},
   "outputs": [],
   "source": [
    "checker = SpellChecker(\"am\")"
   ]
  },
  {
   "cell_type": "code",
   "execution_count": 5,
   "id": "deab0c78",
   "metadata": {},
   "outputs": [
    {
     "data": {
      "text/plain": [
       "[('և', 6290),\n",
       " ('էր', 5867),\n",
       " ('է', 5719),\n",
       " ('մի', 4150),\n",
       " ('որ', 3470),\n",
       " ('նա', 3376),\n",
       " ('այդ', 2845),\n",
       " ('նրա', 2469),\n",
       " ('ես', 2439),\n",
       " ('էին', 2426),\n",
       " ('մեջ', 1840),\n",
       " ('են', 1770),\n",
       " ('վրա', 1671),\n",
       " ('թե', 1660),\n",
       " ('յուր', 1447),\n",
       " ('բայց', 1407),\n",
       " ('իր', 1370),\n",
       " ('իմ', 1200),\n",
       " ('ի', 1117),\n",
       " ('հետ', 1062)]"
      ]
     },
     "execution_count": 5,
     "metadata": {},
     "output_type": "execute_result"
    }
   ],
   "source": [
    "checker.WORDS.most_common(20)"
   ]
  },
  {
   "cell_type": "code",
   "execution_count": null,
   "id": "7020c9f4",
   "metadata": {},
   "outputs": [],
   "source": [
    "checker.correction()"
   ]
  }
 ],
 "metadata": {
  "kernelspec": {
   "display_name": "Python 3 (ipykernel)",
   "language": "python",
   "name": "python3"
  },
  "language_info": {
   "codemirror_mode": {
    "name": "ipython",
    "version": 3
   },
   "file_extension": ".py",
   "mimetype": "text/x-python",
   "name": "python",
   "nbconvert_exporter": "python",
   "pygments_lexer": "ipython3",
   "version": "3.10.11"
  }
 },
 "nbformat": 4,
 "nbformat_minor": 5
}
