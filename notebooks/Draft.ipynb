{
 "cells": [
  {
   "cell_type": "code",
   "execution_count": null,
   "id": "e03ecbc8",
   "metadata": {},
   "outputs": [],
   "source": [
    "correct = [\"տետր\", \"պատուհան\", \"Կարինե\", \"կարտոֆիլ\", \"գրիչ\", \"անհավանական\", \"քննություն\", \"արհեստական\", \"բնական\", \"համակարգիչ\", \"մատիտ\", \"սեղան\", \"գրատախտակ\", \"ականջակալ\", \"քաղաք\", \"հանրապետություն\", \"թուղթ\", \"գրադարան\", \"վարձակալություն\", \"գրագետ\"]\n",
    "correct = [\"տետհ\", \"պատուեան\", \"ուարինե\", \"կարտոֆիլ\", \"գրիչ\", \"անհավանական\", \"քննություն\", \"արհեստական\", \"բնական\", \"համակարգիչ\", \"մատիտ\", \"սեղան\", \"գրատախտակ\", \"ականջակալ\", \"քաղաք\", \"հանրապետություն\", \"թուղթ\", \"գրադարան\", \"վարձակալություն\", \"գրագետ\"]\n"
   ]
  },
  {
   "cell_type": "code",
   "execution_count": 115,
   "id": "950d483b",
   "metadata": {},
   "outputs": [],
   "source": [
    "checker = SpellChecker()"
   ]
  },
  {
   "cell_type": "code",
   "execution_count": 116,
   "id": "2bdc709a",
   "metadata": {},
   "outputs": [
    {
     "data": {
      "text/plain": [
       "32198"
      ]
     },
     "execution_count": 116,
     "metadata": {},
     "output_type": "execute_result"
    }
   ],
   "source": [
    "len(checker.WORDS)"
   ]
  },
  {
   "cell_type": "code",
   "execution_count": 117,
   "id": "7d1bc255",
   "metadata": {},
   "outputs": [
    {
     "data": {
      "text/plain": [
       "\n",
       "        Edit of\n",
       "            content = receit\n",
       "            edit = receipt\n",
       "            type = insert\n",
       "            edit word probaility = 1.1653078877898144e-05\n",
       "            keyboard_distance = 2\n",
       "            levenshtein distance = 1\n",
       "            previous edit = \n",
       "                None\n",
       "        "
      ]
     },
     "execution_count": 117,
     "metadata": {},
     "output_type": "execute_result"
    }
   ],
   "source": [
    "checker.correction(\"receit\")"
   ]
  },
  {
   "cell_type": "code",
   "execution_count": 118,
   "id": "f337b5dc",
   "metadata": {},
   "outputs": [
    {
     "data": {
      "text/plain": [
       "[\n",
       "         Edit of\n",
       "             content = receit\n",
       "             edit = receipt\n",
       "             type = insert\n",
       "             edit word probaility = 1.1653078877898144e-05\n",
       "             keyboard_distance = 2\n",
       "             levenshtein distance = 1\n",
       "             previous edit = \n",
       "                 None\n",
       "         ,\n",
       " \n",
       "         Edit of\n",
       "             content = receit\n",
       "             edit = deceit\n",
       "             type = replace\n",
       "             edit word probaility = 3.585562731660967e-06\n",
       "             keyboard_distance = 2\n",
       "             levenshtein distance = 1\n",
       "             previous edit = \n",
       "                 None\n",
       "         ,\n",
       " \n",
       "         Edit of\n",
       "             content = receit\n",
       "             edit = recent\n",
       "             type = replace\n",
       "             edit word probaility = 4.750870619450781e-05\n",
       "             keyboard_distance = 4\n",
       "             levenshtein distance = 1\n",
       "             previous edit = \n",
       "                 None\n",
       "         ]"
      ]
     },
     "execution_count": 118,
     "metadata": {},
     "output_type": "execute_result"
    }
   ],
   "source": [
    "candidates = list(checker.candidates(\"receit\")) # receipt\n",
    "candidates.sort(key = lambda x: checker.P(x), reverse = True)\n",
    "candidates.sort(key = lambda x: x.keyboard_distance)\n",
    "candidates.sort(key = lambda x: x.edit_type.value)\n",
    "candidates"
   ]
  },
  {
   "cell_type": "code",
   "execution_count": 108,
   "id": "7ea099e5",
   "metadata": {},
   "outputs": [
    {
     "data": {
      "text/plain": [
       "[(0.0, 'deceit'), (0.0, 'recent'), (0.0, 'receipt')]"
      ]
     },
     "execution_count": 108,
     "metadata": {},
     "output_type": "execute_result"
    }
   ],
   "source": [
    "candidates = list(checker.candidates(\"receit\")) # receipt\n",
    "[(edit.probability(), edit.edit) for edit in candidates]"
   ]
  },
  {
   "cell_type": "code",
   "execution_count": 110,
   "id": "09dde287",
   "metadata": {},
   "outputs": [
    {
     "data": {
      "text/plain": [
       "\n",
       "        Edit of\n",
       "            content = mre\n",
       "            edit = more\n",
       "            type = insert\n",
       "            edit word probaility = 0.001790092193781738\n",
       "            keyboard_distance = 4\n",
       "            levenshtein distance = 1\n",
       "            previous edit = \n",
       "                None\n",
       "        "
      ]
     },
     "execution_count": 110,
     "metadata": {},
     "output_type": "execute_result"
    }
   ],
   "source": [
    "checker.correction(\"mre\")"
   ]
  },
  {
   "cell_type": "code",
   "execution_count": 111,
   "id": "83c2d2a4",
   "metadata": {},
   "outputs": [
    {
     "data": {
      "text/plain": [
       "{\n",
       "         Edit of\n",
       "             content = mre\n",
       "             edit = are\n",
       "             type = replace\n",
       "             edit word probaility = 0.0032538981789823275\n",
       "             keyboard_distance = 7\n",
       "             levenshtein distance = 1\n",
       "             previous edit = \n",
       "                 None\n",
       "         ,\n",
       " \n",
       "         Edit of\n",
       "             content = mre\n",
       "             edit = ere\n",
       "             type = replace\n",
       "             edit word probaility = 8.963906829152417e-07\n",
       "             keyboard_distance = 6\n",
       "             levenshtein distance = 1\n",
       "             previous edit = \n",
       "                 None\n",
       "         ,\n",
       " \n",
       "         Edit of\n",
       "             content = mre\n",
       "             edit = ire\n",
       "             type = replace\n",
       "             edit word probaility = 8.963906829152417e-07\n",
       "             keyboard_distance = 3\n",
       "             levenshtein distance = 1\n",
       "             previous edit = \n",
       "                 None\n",
       "         ,\n",
       " \n",
       "         Edit of\n",
       "             content = mre\n",
       "             edit = mare\n",
       "             type = insert\n",
       "             edit word probaility = 4.481953414576209e-06\n",
       "             keyboard_distance = 7\n",
       "             levenshtein distance = 1\n",
       "             previous edit = \n",
       "                 None\n",
       "         ,\n",
       " \n",
       "         Edit of\n",
       "             content = mre\n",
       "             edit = me\n",
       "             type = delete\n",
       "             edit word probaility = 0.0017210701111972642\n",
       "             keyboard_distance = 1\n",
       "             levenshtein distance = 1\n",
       "             previous edit = \n",
       "                 None\n",
       "         ,\n",
       " \n",
       "         Edit of\n",
       "             content = mre\n",
       "             edit = mere\n",
       "             type = insert\n",
       "             edit word probaility = 7.08148639503041e-05\n",
       "             keyboard_distance = 6\n",
       "             levenshtein distance = 1\n",
       "             previous edit = \n",
       "                 None\n",
       "         ,\n",
       " \n",
       "         Edit of\n",
       "             content = mre\n",
       "             edit = more\n",
       "             type = insert\n",
       "             edit word probaility = 0.001790092193781738\n",
       "             keyboard_distance = 4\n",
       "             levenshtein distance = 1\n",
       "             previous edit = \n",
       "                 None\n",
       "         ,\n",
       " \n",
       "         Edit of\n",
       "             content = mre\n",
       "             edit = mr\n",
       "             type = delete\n",
       "             edit word probaility = 0.00032270064584948705\n",
       "             keyboard_distance = 0\n",
       "             levenshtein distance = 1\n",
       "             previous edit = \n",
       "                 None\n",
       "         ,\n",
       " \n",
       "         Edit of\n",
       "             content = mre\n",
       "             edit = mrs\n",
       "             type = replace\n",
       "             edit word probaility = 5.288705029199927e-05\n",
       "             keyboard_distance = 2\n",
       "             levenshtein distance = 1\n",
       "             previous edit = \n",
       "                 None\n",
       "         ,\n",
       " \n",
       "         Edit of\n",
       "             content = mre\n",
       "             edit = ore\n",
       "             type = replace\n",
       "             edit word probaility = 2.6891720487457255e-06\n",
       "             keyboard_distance = 4\n",
       "             levenshtein distance = 1\n",
       "             previous edit = \n",
       "                 None\n",
       "         ,\n",
       " \n",
       "         Edit of\n",
       "             content = mre\n",
       "             edit = pre\n",
       "             type = replace\n",
       "             edit word probaility = 1.3445860243728626e-05\n",
       "             keyboard_distance = 5\n",
       "             levenshtein distance = 1\n",
       "             previous edit = \n",
       "                 None\n",
       "         ,\n",
       " \n",
       "         Edit of\n",
       "             content = mre\n",
       "             edit = re\n",
       "             type = delete\n",
       "             edit word probaility = 0.00016941783907098069\n",
       "             keyboard_distance = -1\n",
       "             levenshtein distance = 1\n",
       "             previous edit = \n",
       "                 None\n",
       "         }"
      ]
     },
     "execution_count": 111,
     "metadata": {},
     "output_type": "execute_result"
    }
   ],
   "source": [
    "candidates = checker.candidates(\"mre\") # more\n",
    "candidates"
   ]
  },
  {
   "cell_type": "code",
   "execution_count": 87,
   "id": "f4643f8e",
   "metadata": {},
   "outputs": [
    {
     "data": {
      "text/plain": [
       "\n",
       "        Edit\n",
       "            content = ever\n",
       "            type = replace\n",
       "            previous edit = \n",
       "                None\n",
       "            keyboard_distance = 3\n",
       "        "
      ]
     },
     "execution_count": 87,
     "metadata": {},
     "output_type": "execute_result"
    }
   ],
   "source": [
    "checker.correction(\"evar\")"
   ]
  },
  {
   "cell_type": "code",
   "execution_count": 35,
   "id": "304027d0",
   "metadata": {},
   "outputs": [
    {
     "data": {
      "text/plain": [
       "{\n",
       "         Edit\n",
       "             content = ear\n",
       "             type = delete\n",
       "             previous edit = \n",
       "                 None\n",
       "             keyboard_distance = 2\n",
       "         ,\n",
       " \n",
       "         Edit\n",
       "             content = eva\n",
       "             type = delete\n",
       "             previous edit = \n",
       "                 None\n",
       "             keyboard_distance = 0\n",
       "         ,\n",
       " \n",
       "         Edit\n",
       "             content = ever\n",
       "             type = replace\n",
       "             previous edit = \n",
       "                 None\n",
       "             keyboard_distance = 3\n",
       "         }"
      ]
     },
     "execution_count": 35,
     "metadata": {},
     "output_type": "execute_result"
    }
   ],
   "source": [
    "candidates = checker.candidates(\"evar\") # ever\n",
    "candidates"
   ]
  },
  {
   "cell_type": "code",
   "execution_count": 3,
   "id": "b1b164fc",
   "metadata": {},
   "outputs": [],
   "source": [
    "file_to_open = f'big_{\"en\"}.txt'\n",
    "        \n",
    "with open(file_to_open, \"r\") as file:\n",
    "    corpus = file.read()\n",
    "    \n"
   ]
  },
  {
   "cell_type": "code",
   "execution_count": 14,
   "id": "ba6e93e4",
   "metadata": {},
   "outputs": [],
   "source": [
    "from collections import defaultdict\n",
    "\n",
    "def train_language_model(corpus):\n",
    "    # A function to train a trigram language model\n",
    "    model = defaultdict(lambda: defaultdict(lambda: 0))\n",
    "\n",
    "    for sentence in corpus:\n",
    "        sentence = sentence.split()\n",
    "\n",
    "        for w1, w2, w3 in zip(sentence[:-2], sentence[1:-1], sentence[2:]):\n",
    "            model[(w1, w2)][w3] += 1  # Increase the count each time a trigram is encountered\n",
    "\n",
    "    # Normalizing the counts to get probabilities\n",
    "    for w1_w2 in model:\n",
    "        total_count = float(sum(model[w1_w2].values()))\n",
    "        for w3 in model[w1_w2]:\n",
    "            model[w1_w2][w3] /= total_count\n",
    "\n",
    "    return model\n"
   ]
  },
  {
   "cell_type": "code",
   "execution_count": 15,
   "id": "d9985d22",
   "metadata": {},
   "outputs": [],
   "source": [
    "def predict_next_word(sentence, possible_words, model):\n",
    "    # A function to predict the next word using a trigram language model\n",
    "    sentence = sentence.split()\n",
    "    if len(sentence) < 2:\n",
    "        return None\n",
    "\n",
    "    w1, w2 = sentence[-2], sentence[-1]\n",
    "    probabilities = {word: model[(w1, w2)][word] for word in possible_words}\n",
    "    print(probabilities)\n",
    "    return max(probabilities, key=probabilities.get)\n"
   ]
  },
  {
   "cell_type": "code",
   "execution_count": 17,
   "id": "b8bf8fd6",
   "metadata": {},
   "outputs": [],
   "source": [
    "model = train_language_model(corpus)"
   ]
  },
  {
   "cell_type": "code",
   "execution_count": 21,
   "id": "b85f4004",
   "metadata": {},
   "outputs": [
    {
     "data": {
      "text/plain": [
       "0"
      ]
     },
     "execution_count": 21,
     "metadata": {},
     "output_type": "execute_result"
    }
   ],
   "source": [
    "model[(\"going\", \"to\")][\"him\"]"
   ]
  },
  {
   "cell_type": "code",
   "execution_count": 131,
   "id": "a5302e62",
   "metadata": {},
   "outputs": [
    {
     "data": {
      "text/plain": [
       "6488665"
      ]
     },
     "execution_count": 131,
     "metadata": {},
     "output_type": "execute_result"
    }
   ],
   "source": [
    "len(raw_text)"
   ]
  },
  {
   "cell_type": "code",
   "execution_count": 135,
   "id": "6825cd19",
   "metadata": {},
   "outputs": [
    {
     "name": "stdout",
     "output_type": "stream",
     "text": [
      "{'to': 0, 'eavesdropping': 0, 'Anaconda': 0, 'me': 0, 'him': 0}\n"
     ]
    },
    {
     "data": {
      "text/plain": [
       "'to'"
      ]
     },
     "execution_count": 135,
     "metadata": {},
     "output_type": "execute_result"
    }
   ],
   "source": [
    "predict_next_word(\"and according\", [\"to\", \"eavesdropping\", \"Anaconda\", \"me\", \"him\"], model)"
   ]
  },
  {
   "cell_type": "code",
   "execution_count": 12,
   "id": "8b978833",
   "metadata": {},
   "outputs": [],
   "source": [
    "import nltk\n",
    "from nltk.lm import Laplace\n",
    "from nltk.lm.preprocessing import padded_everygram_pipeline\n",
    "\n",
    "def train_model(n, tokenized_text):\n",
    "    train_data, padded_sentences = padded_everygram_pipeline(n, tokenized_text)\n",
    "    model = Laplace(n)\n",
    "    model.fit(train_data, padded_sentences)\n",
    "    return model\n",
    "\n",
    "def predict_next_word(model, sentence, list_of_words):\n",
    "    tokenized_sentence = list(map(str.lower, nltk.word_tokenize(sentence)))\n",
    "    # Using the model's vocabulary, find the missing words not in the vocabulary and give them a score of 0\n",
    "    missing_words = set(list_of_words) - set(model.vocab)\n",
    "    scores = {word: 0 for word in missing_words}\n",
    "    \n",
    "    # For words in the model's vocabulary, estimate the probability of the next word\n",
    "    for word in model.vocab:\n",
    "        if word in list_of_words:\n",
    "            scores[word] = model.score(word, tokenized_sentence[-(model.order - 1):])\n",
    "    print(scores)\n",
    "    # Return the word with the highest probability\n",
    "    return max(scores, key=scores.get)"
   ]
  },
  {
   "cell_type": "code",
   "execution_count": 9,
   "id": "eb3e7ef0",
   "metadata": {},
   "outputs": [],
   "source": [
    "# Training\n",
    "n = 3\n",
    "tokenized_text = [list(map(str.lower, nltk.word_tokenize(sent))) for sent in corpus]\n",
    "model = train_model(n, tokenized_text)"
   ]
  },
  {
   "cell_type": "code",
   "execution_count": 13,
   "id": "97d6554e",
   "metadata": {},
   "outputs": [
    {
     "name": "stdout",
     "output_type": "stream",
     "text": [
      "{'him': 0, 'eavesdropping': 0, 'to': 0, 'me': 0, 'Anaconda': 0}\n"
     ]
    }
   ],
   "source": [
    "# Prediction\n",
    "sentence = \"I am going\"\n",
    "list_of_words = [\"to\", \"me\", \"Anaconda\", \"eavesdropping\", \"him\"]\n",
    "predicted_word = predict_next_word(model, sentence, list_of_words)"
   ]
  },
  {
   "cell_type": "code",
   "execution_count": 11,
   "id": "070769be",
   "metadata": {},
   "outputs": [
    {
     "data": {
      "text/plain": [
       "'him'"
      ]
     },
     "execution_count": 11,
     "metadata": {},
     "output_type": "execute_result"
    }
   ],
   "source": [
    "predicted_word"
   ]
  },
  {
   "cell_type": "code",
   "execution_count": 22,
   "id": "b7246129",
   "metadata": {},
   "outputs": [],
   "source": [
    "from nltk.util import ngrams\n",
    "from collections import Counter\n",
    "\n",
    "def predict_next_word(sentence, possible_words, n=3):\n",
    "    # split sentence into tokens\n",
    "    tokens = nltk.word_tokenize(sentence)\n",
    "    \n",
    "    # create ngrams\n",
    "    grams = list(ngrams(tokens, n))\n",
    "    \n",
    "    # count ngrams\n",
    "    ngram_counts = Counter(grams)\n",
    "    preceding_bigram = tuple(tokens[-(n-1):])  # get last (n-1) words from sentence\n",
    "\n",
    "    # count preceding bigrams\n",
    "    preceding_bigram_counts = Counter({key:val for key,val in ngram_counts.items() if key[:-1] == preceding_bigram})\n",
    "    total_preceding_bigram_counts = sum(preceding_bigram_counts.values())\n",
    "\n",
    "    # get trigram probabilities\n",
    "    trigram_probabilities = {}\n",
    "    for word in possible_words:\n",
    "        trigram = preceding_bigram + (word,)\n",
    "        trigram_count = ngram_counts.get(trigram, 0) + 1  # add-one Laplace Smoothing\n",
    "        trigram_probability = trigram_count / (total_preceding_bigram_counts + len(possible_words))  # add V to denominator\n",
    "        trigram_probabilities[word] = trigram_probability\n",
    "\n",
    "    return trigram_probabilities\n"
   ]
  },
  {
   "cell_type": "code",
   "execution_count": null,
   "id": "85a6de4e",
   "metadata": {},
   "outputs": [],
   "source": []
  }
 ],
 "metadata": {
  "kernelspec": {
   "display_name": "Python 3 (ipykernel)",
   "language": "python",
   "name": "python3"
  },
  "language_info": {
   "codemirror_mode": {
    "name": "ipython",
    "version": 3
   },
   "file_extension": ".py",
   "mimetype": "text/x-python",
   "name": "python",
   "nbconvert_exporter": "python",
   "pygments_lexer": "ipython3",
   "version": "3.9.13"
  }
 },
 "nbformat": 4,
 "nbformat_minor": 5
}
