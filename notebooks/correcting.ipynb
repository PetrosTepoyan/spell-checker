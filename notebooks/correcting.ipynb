{
 "cells": [
  {
   "cell_type": "code",
   "execution_count": 1,
   "id": "721ff1de",
   "metadata": {},
   "outputs": [],
   "source": [
    "import sys\n",
    "import os\n",
    "sys.path.append('..')"
   ]
  },
  {
   "cell_type": "code",
   "execution_count": 2,
   "id": "5902b0e5",
   "metadata": {},
   "outputs": [],
   "source": [
    "from core.SpellChecker import SpellChecker\n",
    "from collections import Counter\n",
    "import re\n",
    "import pandas as pd\n",
    "import numpy as np\n",
    "import itertools"
   ]
  },
  {
   "cell_type": "code",
   "execution_count": 3,
   "id": "1353aa9d",
   "metadata": {},
   "outputs": [],
   "source": [
    "checker = SpellChecker()"
   ]
  },
  {
   "cell_type": "code",
   "execution_count": 4,
   "id": "5fa75a33",
   "metadata": {},
   "outputs": [],
   "source": [
    "def read_text(filename):\n",
    "    with open(filename, \"r\") as file:\n",
    "        return file.read()"
   ]
  },
  {
   "cell_type": "code",
   "execution_count": 5,
   "id": "c38a9959",
   "metadata": {},
   "outputs": [],
   "source": [
    "def evaluate_spell_checker(correction_function, **kwargs):\n",
    "    print(correction_function)\n",
    "    text_correct = read_text(\"../texts/text_correct.txt\").lower()\n",
    "    text_misspel = read_text(\"../texts/text_misspel.txt\").lower()\n",
    "    \n",
    "    words_original = re.findall(r'\\w+', text_correct.lower())\n",
    "    words_misspelled = re.findall(r'\\w+', text_misspel.lower())\n",
    "    edits = [correction_function(word, **kwargs) for word in words_misspelled]\n",
    "    \n",
    "    try:\n",
    "        words_correct = [edit.edit for edit in edits]\n",
    "    except:\n",
    "        words_correct = edits\n",
    "    \n",
    "    df = pd.DataFrame({\n",
    "        \"original\" : words_original,\n",
    "        \"misspllled\" : words_misspelled, \n",
    "        \"corrected\" : words_correct}\n",
    "    )\n",
    "    df[\"correct\"] = df.original == df.corrected\n",
    "    df[\"almost_correct\"] = (df.original.apply(lambda x: x[:-1]) == df.corrected) | df.correct\n",
    "    \n",
    "    correct_fraction = sum(df.correct) / len(df.correct)\n",
    "    almost_correct_fraction = sum(df.almost_correct) / len(df.correct)\n",
    "    \n",
    "    return df, correct_fraction, almost_correct_fraction"
   ]
  },
  {
   "cell_type": "code",
   "execution_count": 6,
   "id": "4dee6019",
   "metadata": {},
   "outputs": [
    {
     "name": "stdout",
     "output_type": "stream",
     "text": [
      "<bound method SpellChecker.correction of <core.SpellChecker.SpellChecker object at 0x1200b6dc0>>\n",
      "0.7763157894736842\n",
      "0.8157894736842105\n"
     ]
    }
   ],
   "source": [
    "df, correct_fraction, almost_correct_fraction = evaluate_spell_checker(checker.correction)\n",
    "print(correct_fraction)\n",
    "print(almost_correct_fraction)"
   ]
  },
  {
   "cell_type": "code",
   "execution_count": 17,
   "id": "c4252172",
   "metadata": {},
   "outputs": [
    {
     "data": {
      "text/html": [
       "<div>\n",
       "<style scoped>\n",
       "    .dataframe tbody tr th:only-of-type {\n",
       "        vertical-align: middle;\n",
       "    }\n",
       "\n",
       "    .dataframe tbody tr th {\n",
       "        vertical-align: top;\n",
       "    }\n",
       "\n",
       "    .dataframe thead th {\n",
       "        text-align: right;\n",
       "    }\n",
       "</style>\n",
       "<table border=\"1\" class=\"dataframe\">\n",
       "  <thead>\n",
       "    <tr style=\"text-align: right;\">\n",
       "      <th></th>\n",
       "      <th>original</th>\n",
       "      <th>misspllled</th>\n",
       "      <th>corrected</th>\n",
       "      <th>correct</th>\n",
       "      <th>almost_correct</th>\n",
       "    </tr>\n",
       "  </thead>\n",
       "  <tbody>\n",
       "    <tr>\n",
       "      <th>0</th>\n",
       "      <td>in</td>\n",
       "      <td>in</td>\n",
       "      <td>in</td>\n",
       "      <td>True</td>\n",
       "      <td>True</td>\n",
       "    </tr>\n",
       "    <tr>\n",
       "      <th>1</th>\n",
       "      <td>nowadays</td>\n",
       "      <td>noaadays</td>\n",
       "      <td>nowadays</td>\n",
       "      <td>True</td>\n",
       "      <td>True</td>\n",
       "    </tr>\n",
       "    <tr>\n",
       "      <th>2</th>\n",
       "      <td>rapidly</td>\n",
       "      <td>paridly</td>\n",
       "      <td>partly</td>\n",
       "      <td>False</td>\n",
       "      <td>False</td>\n",
       "    </tr>\n",
       "    <tr>\n",
       "      <th>3</th>\n",
       "      <td>advancing</td>\n",
       "      <td>avdacning</td>\n",
       "      <td>advancing</td>\n",
       "      <td>True</td>\n",
       "      <td>True</td>\n",
       "    </tr>\n",
       "    <tr>\n",
       "      <th>4</th>\n",
       "      <td>digital</td>\n",
       "      <td>diital</td>\n",
       "      <td>digital</td>\n",
       "      <td>True</td>\n",
       "      <td>True</td>\n",
       "    </tr>\n",
       "    <tr>\n",
       "      <th>...</th>\n",
       "      <td>...</td>\n",
       "      <td>...</td>\n",
       "      <td>...</td>\n",
       "      <td>...</td>\n",
       "      <td>...</td>\n",
       "    </tr>\n",
       "    <tr>\n",
       "      <th>71</th>\n",
       "      <td>various</td>\n",
       "      <td>variaous</td>\n",
       "      <td>various</td>\n",
       "      <td>True</td>\n",
       "      <td>True</td>\n",
       "    </tr>\n",
       "    <tr>\n",
       "      <th>72</th>\n",
       "      <td>aspects</td>\n",
       "      <td>sapect</td>\n",
       "      <td>aspect</td>\n",
       "      <td>False</td>\n",
       "      <td>True</td>\n",
       "    </tr>\n",
       "    <tr>\n",
       "      <th>73</th>\n",
       "      <td>of</td>\n",
       "      <td>of</td>\n",
       "      <td>of</td>\n",
       "      <td>True</td>\n",
       "      <td>True</td>\n",
       "    </tr>\n",
       "    <tr>\n",
       "      <th>74</th>\n",
       "      <td>our</td>\n",
       "      <td>our</td>\n",
       "      <td>our</td>\n",
       "      <td>True</td>\n",
       "      <td>True</td>\n",
       "    </tr>\n",
       "    <tr>\n",
       "      <th>75</th>\n",
       "      <td>lives</td>\n",
       "      <td>livs</td>\n",
       "      <td>lives</td>\n",
       "      <td>True</td>\n",
       "      <td>True</td>\n",
       "    </tr>\n",
       "  </tbody>\n",
       "</table>\n",
       "<p>76 rows × 5 columns</p>\n",
       "</div>"
      ],
      "text/plain": [
       "     original misspllled  corrected  correct  almost_correct\n",
       "0          in         in         in     True            True\n",
       "1    nowadays   noaadays   nowadays     True            True\n",
       "2     rapidly    paridly     partly    False           False\n",
       "3   advancing  avdacning  advancing     True            True\n",
       "4     digital     diital    digital     True            True\n",
       "..        ...        ...        ...      ...             ...\n",
       "71    various   variaous    various     True            True\n",
       "72    aspects     sapect     aspect    False            True\n",
       "73         of         of         of     True            True\n",
       "74        our        our        our     True            True\n",
       "75      lives       livs      lives     True            True\n",
       "\n",
       "[76 rows x 5 columns]"
      ]
     },
     "execution_count": 17,
     "metadata": {},
     "output_type": "execute_result"
    }
   ],
   "source": [
    "df"
   ]
  },
  {
   "cell_type": "markdown",
   "id": "15f41ba0",
   "metadata": {},
   "source": [
    "Almost correct means that the algorithm missed the plural form"
   ]
  },
  {
   "cell_type": "code",
   "execution_count": 7,
   "id": "d8bc07f6",
   "metadata": {},
   "outputs": [],
   "source": [
    "correct_wrong = list(df[[\"misspllled\", \"original\"]].itertuples(index=False, name=None))\n",
    "params = {\n",
    "    'keyboard_weight': [1.0, 5.0, 10.0],\n",
    "    'edit_type_weight': [0.1, 1],\n",
    "    'word_probability_weight': [10.0, 20.0, 50.0]\n",
    "}"
   ]
  },
  {
   "cell_type": "code",
   "execution_count": 11,
   "id": "1079f4f7",
   "metadata": {},
   "outputs": [],
   "source": [
    "def probability(edit, keyboard_weight = 1.0, edit_type_weight = 1.0, word_probability_weight = 5.0):\n",
    "    # Scale the distances and probabilities so they have similar magnitudes.\n",
    "    keyboard_distance_score = 1 / (1 + edit.keyboard_distance + edit.levenshtein_distance)**keyboard_weight\n",
    "    edit_type_probability = edit.edit_type.probability() ** edit_type_weight\n",
    "    word_probability = edit.edit_word_probability ** word_probability_weight\n",
    "\n",
    "    # Combine them using multiplication: this will return high probability only if all factors are high.\n",
    "    combined_probability = keyboard_distance_score * edit_type_probability * word_probability\n",
    "    return combined_probability\n"
   ]
  },
  {
   "cell_type": "code",
   "execution_count": 12,
   "id": "e2187467",
   "metadata": {},
   "outputs": [],
   "source": [
    "def grid_search(spellchecker, misspelled_correct_pairs, params):\n",
    "    \"\"\"\n",
    "    Parameters:\n",
    "    spellchecker: an instance of your spellchecker\n",
    "    misspelled_correct_pairs: a list of tuples, where the first element is a \n",
    "                              misspelled word and the second is the correct spelling\n",
    "    params: a dictionary where keys are parameter names and values are lists of \n",
    "            parameter values to try\n",
    "    \"\"\"\n",
    "    \n",
    "    best_accuracy = 0\n",
    "    best_params = None\n",
    "\n",
    "    # Generate all combinations of parameter values\n",
    "    param_combinations = list(itertools.product(*(params[param] for param in params)))\n",
    "\n",
    "    for param_values in param_combinations:\n",
    "        param_dict = dict(zip(params.keys(), param_values))\n",
    "        print(\"NEW PARAMS\", param_dict)\n",
    "        correct = 0\n",
    "        for misspelled, correct_word in misspelled_correct_pairs:\n",
    "            candidates = list(spellchecker.candidates(misspelled))\n",
    "            probabilities = [probability(candidate, **param_dict) for candidate in candidates]\n",
    "            \n",
    "            if candidates[np.argmax(probabilities)].edit == correct_word:\n",
    "                correct += 1\n",
    "\n",
    "        accuracy = correct / len(misspelled_correct_pairs)\n",
    "\n",
    "        if accuracy > best_accuracy:\n",
    "            best_accuracy = accuracy\n",
    "            best_params = param_dict\n",
    "            \n",
    "        print(accuracy)\n",
    "        print()\n",
    "\n",
    "    return best_params, best_accuracy\n"
   ]
  },
  {
   "cell_type": "code",
   "execution_count": 13,
   "id": "46bb27c3",
   "metadata": {},
   "outputs": [
    {
     "name": "stdout",
     "output_type": "stream",
     "text": [
      "NEW PARAMS {'keyboard_weight': 1.0, 'edit_type_weight': 0.1, 'word_probability_weight': 10.0}\n",
      "0.8552631578947368\n",
      "\n",
      "NEW PARAMS {'keyboard_weight': 1.0, 'edit_type_weight': 0.1, 'word_probability_weight': 20.0}\n",
      "0.8552631578947368\n",
      "\n",
      "NEW PARAMS {'keyboard_weight': 1.0, 'edit_type_weight': 0.1, 'word_probability_weight': 50.0}\n",
      "0.8552631578947368\n",
      "\n",
      "NEW PARAMS {'keyboard_weight': 1.0, 'edit_type_weight': 1, 'word_probability_weight': 10.0}\n",
      "0.8552631578947368\n",
      "\n",
      "NEW PARAMS {'keyboard_weight': 1.0, 'edit_type_weight': 1, 'word_probability_weight': 20.0}\n",
      "0.8552631578947368\n",
      "\n",
      "NEW PARAMS {'keyboard_weight': 1.0, 'edit_type_weight': 1, 'word_probability_weight': 50.0}\n",
      "0.8552631578947368\n",
      "\n",
      "NEW PARAMS {'keyboard_weight': 5.0, 'edit_type_weight': 0.1, 'word_probability_weight': 10.0}\n",
      "0.8421052631578947\n",
      "\n",
      "NEW PARAMS {'keyboard_weight': 5.0, 'edit_type_weight': 0.1, 'word_probability_weight': 20.0}\n",
      "0.8421052631578947\n",
      "\n",
      "NEW PARAMS {'keyboard_weight': 5.0, 'edit_type_weight': 0.1, 'word_probability_weight': 50.0}\n",
      "0.8552631578947368\n",
      "\n",
      "NEW PARAMS {'keyboard_weight': 5.0, 'edit_type_weight': 1, 'word_probability_weight': 10.0}\n",
      "0.8421052631578947\n",
      "\n",
      "NEW PARAMS {'keyboard_weight': 5.0, 'edit_type_weight': 1, 'word_probability_weight': 20.0}\n",
      "0.8552631578947368\n",
      "\n",
      "NEW PARAMS {'keyboard_weight': 5.0, 'edit_type_weight': 1, 'word_probability_weight': 50.0}\n",
      "0.8552631578947368\n",
      "\n",
      "NEW PARAMS {'keyboard_weight': 10.0, 'edit_type_weight': 0.1, 'word_probability_weight': 10.0}\n",
      "0.8421052631578947\n",
      "\n",
      "NEW PARAMS {'keyboard_weight': 10.0, 'edit_type_weight': 0.1, 'word_probability_weight': 20.0}\n",
      "0.8421052631578947\n",
      "\n",
      "NEW PARAMS {'keyboard_weight': 10.0, 'edit_type_weight': 0.1, 'word_probability_weight': 50.0}\n",
      "0.8421052631578947\n",
      "\n",
      "NEW PARAMS {'keyboard_weight': 10.0, 'edit_type_weight': 1, 'word_probability_weight': 10.0}\n",
      "0.8421052631578947\n",
      "\n",
      "NEW PARAMS {'keyboard_weight': 10.0, 'edit_type_weight': 1, 'word_probability_weight': 20.0}\n",
      "0.8421052631578947\n",
      "\n",
      "NEW PARAMS {'keyboard_weight': 10.0, 'edit_type_weight': 1, 'word_probability_weight': 50.0}\n",
      "0.8552631578947368\n",
      "\n"
     ]
    },
    {
     "data": {
      "text/plain": [
       "({'keyboard_weight': 1.0,\n",
       "  'edit_type_weight': 0.1,\n",
       "  'word_probability_weight': 10.0},\n",
       " 0.8552631578947368)"
      ]
     },
     "execution_count": 13,
     "metadata": {},
     "output_type": "execute_result"
    }
   ],
   "source": [
    "grid_search(checker, correct_wrong, params)"
   ]
  },
  {
   "cell_type": "code",
   "execution_count": 9,
   "id": "0c268403",
   "metadata": {},
   "outputs": [],
   "source": [
    "  import re\n",
    "from collections import Counter\n",
    "\n",
    "def words(text): return re.findall(r'\\w+', text.lower())\n",
    "\n",
    "WORDS = Counter(words(open('big_en.txt').read()))\n",
    "\n",
    "def P(word, N=sum(WORDS.values())): \n",
    "    \"Probability of `word`.\"\n",
    "    return WORDS[word] / N\n",
    "\n",
    "def correction(word): \n",
    "    \"Most probable spelling correction for word.\"\n",
    "    return max(candidates(word), key=P)\n",
    "\n",
    "def candidates(word): \n",
    "    \"Generate possible spelling corrections for word.\"\n",
    "    return (known([word]) or known(edits1(word)) or known(edits2(word)) or [word])\n",
    "\n",
    "def known(words): \n",
    "    \"The subset of `words` that appear in the dictionary of WORDS.\"\n",
    "    return set(w for w in words if w in WORDS)\n",
    "\n",
    "def edits1(word):\n",
    "    \"All edits that are one edit away from `word`.\"\n",
    "    letters    = 'abcdefghijklmnopqrstuvwxyz'\n",
    "    splits     = [(word[:i], word[i:])    for i in range(len(word) + 1)]\n",
    "    deletes    = [L + R[1:]               for L, R in splits if R]\n",
    "    transposes = [L + R[1] + R[0] + R[2:] for L, R in splits if len(R)>1]\n",
    "    replaces   = [L + c + R[1:]           for L, R in splits if R for c in letters]\n",
    "    inserts    = [L + c + R               for L, R in splits for c in letters]\n",
    "    return set(deletes + transposes + replaces + inserts)\n",
    "\n",
    "def edits2(word): \n",
    "    \"All edits that are two edits away from `word`.\"\n",
    "    return (e2 for e1 in edits1(word) for e2 in edits1(e1))"
   ]
  },
  {
   "cell_type": "code",
   "execution_count": 39,
   "id": "744cb61c",
   "metadata": {},
   "outputs": [
    {
     "name": "stdout",
     "output_type": "stream",
     "text": [
      "<function correction at 0x107f14310>\n"
     ]
    },
    {
     "data": {
      "text/plain": [
       "(     original misspllled  corrected  correct  almost_correct\n",
       " 0          in         in         in     True            True\n",
       " 1    nowadays   noaadays   nowadays     True            True\n",
       " 2     rapidly    paridly    rapidly     True            True\n",
       " 3   advancing  avdacning  advancing     True            True\n",
       " 4     digital     diital     distal    False           False\n",
       " ..        ...        ...        ...      ...             ...\n",
       " 71    various   variaous    various     True            True\n",
       " 72    aspects     sapect     aspect    False            True\n",
       " 73         of         of         of     True            True\n",
       " 74        our        our        our     True            True\n",
       " 75      lives       livs       lips    False           False\n",
       " \n",
       " [76 rows x 5 columns],\n",
       " 0.8552631578947368,\n",
       " 0.881578947368421)"
      ]
     },
     "execution_count": 39,
     "metadata": {},
     "output_type": "execute_result"
    }
   ],
   "source": [
    "evaluate_spell_checker(correction)"
   ]
  }
 ],
 "metadata": {
  "kernelspec": {
   "display_name": "Python 3 (ipykernel)",
   "language": "python",
   "name": "python3"
  },
  "language_info": {
   "codemirror_mode": {
    "name": "ipython",
    "version": 3
   },
   "file_extension": ".py",
   "mimetype": "text/x-python",
   "name": "python",
   "nbconvert_exporter": "python",
   "pygments_lexer": "ipython3",
   "version": "3.9.13"
  }
 },
 "nbformat": 4,
 "nbformat_minor": 5
}
