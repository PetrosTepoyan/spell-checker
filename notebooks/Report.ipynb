{
 "cells": [
  {
   "cell_type": "code",
   "execution_count": 2,
   "id": "4bd6d810",
   "metadata": {},
   "outputs": [],
   "source": [
    "import sys\n",
    "import os\n",
    "sys.path.append('..')\n",
    "\n",
    "from core.SpellChecker import SpellChecker\n",
    "from collections import Counter\n",
    "\n",
    "from core.NGramModel import NGramModel"
   ]
  },
  {
   "cell_type": "markdown",
   "id": "2949f92c",
   "metadata": {},
   "source": [
    "Unfortunately, I couldn't improve upon the Norvig's solution, even though numerous simple and complex probability models were explored and tested. One way of advancing the work may be devising a robust language model, that would "
   ]
  },
  {
   "cell_type": "markdown",
   "id": "6172084a",
   "metadata": {},
   "source": [
    "## Original solution by Norvig"
   ]
  },
  {
   "cell_type": "code",
   "execution_count": 3,
   "id": "6a4b906d",
   "metadata": {},
   "outputs": [],
   "source": [
    "import re\n",
    "from collections import Counter\n",
    "\n",
    "def words(text): return re.findall(r'\\w+', text.lower())\n",
    "\n",
    "WORDS = Counter(words(open('../texts/big_en.txt').read()))\n",
    "\n",
    "def P(word, N=sum(WORDS.values())): \n",
    "    \"Probability of `word`.\"\n",
    "    return WORDS[word] / N\n",
    "\n",
    "def correction(word): \n",
    "    \"Most probable spelling correction for word.\"\n",
    "    return max(candidates(word), key=P)\n",
    "\n",
    "def candidates(word): \n",
    "    \"Generate possible spelling corrections for word.\"\n",
    "    return (known([word]) or known(edits1(word)) or known(edits2(word)) or [word])\n",
    "\n",
    "def known(words): \n",
    "    \"The subset of `words` that appear in the dictionary of WORDS.\"\n",
    "    return set(w for w in words if w in WORDS)\n",
    "\n",
    "def edits1(word):\n",
    "    \"All edits that are one edit away from `word`.\"\n",
    "    letters    = 'abcdefghijklmnopqrstuvwxyz'\n",
    "    splits     = [(word[:i], word[i:])    for i in range(len(word) + 1)]\n",
    "    deletes    = [L + R[1:]               for L, R in splits if R]\n",
    "    transposes = [L + R[1] + R[0] + R[2:] for L, R in splits if len(R)>1]\n",
    "    replaces   = [L + c + R[1:]           for L, R in splits if R for c in letters]\n",
    "    inserts    = [L + c + R               for L, R in splits for c in letters]\n",
    "    return set(deletes + transposes + replaces + inserts)\n",
    "\n",
    "def edits2(word): \n",
    "    \"All edits that are two edits away from `word`.\"\n",
    "    return (e2 for e1 in edits1(word) for e2 in edits1(e1))"
   ]
  },
  {
   "cell_type": "markdown",
   "id": "196cd2b9",
   "metadata": {},
   "source": [
    "## Suggested solution"
   ]
  },
  {
   "cell_type": "markdown",
   "id": "dde924f8",
   "metadata": {},
   "source": [
    "# English"
   ]
  },
  {
   "cell_type": "code",
   "execution_count": 4,
   "id": "03ee4ce7",
   "metadata": {},
   "outputs": [
    {
     "data": {
      "text/plain": [
       "\n",
       "        Edit of\n",
       "            content = receit\n",
       "            edit = receipt\n",
       "            type = insert\n",
       "            edit word probaility = 1.1653078877898144e-05\n",
       "            keyboard_distance = 2\n",
       "            levenshtein distance = 1\n",
       "            previous edit = \n",
       "                None\n",
       "        "
      ]
     },
     "execution_count": 4,
     "metadata": {},
     "output_type": "execute_result"
    }
   ],
   "source": [
    "checker = SpellChecker(override_file = \"../texts/big_en.txt\")\n",
    "checker.correction(\"receit\")"
   ]
  },
  {
   "cell_type": "code",
   "execution_count": 5,
   "id": "bd8cf6b6",
   "metadata": {},
   "outputs": [
    {
     "data": {
      "text/plain": [
       "{\n",
       "         Edit of\n",
       "             content = mre\n",
       "             edit = are\n",
       "             type = replace\n",
       "             edit word probaility = 0.0032538981789823275\n",
       "             keyboard_distance = 7\n",
       "             levenshtein distance = 1\n",
       "             previous edit = \n",
       "                 None\n",
       "         ,\n",
       " \n",
       "         Edit of\n",
       "             content = mre\n",
       "             edit = ere\n",
       "             type = replace\n",
       "             edit word probaility = 8.963906829152417e-07\n",
       "             keyboard_distance = 6\n",
       "             levenshtein distance = 1\n",
       "             previous edit = \n",
       "                 None\n",
       "         ,\n",
       " \n",
       "         Edit of\n",
       "             content = mre\n",
       "             edit = ire\n",
       "             type = replace\n",
       "             edit word probaility = 8.963906829152417e-07\n",
       "             keyboard_distance = 3\n",
       "             levenshtein distance = 1\n",
       "             previous edit = \n",
       "                 None\n",
       "         ,\n",
       " \n",
       "         Edit of\n",
       "             content = mre\n",
       "             edit = mare\n",
       "             type = insert\n",
       "             edit word probaility = 4.481953414576209e-06\n",
       "             keyboard_distance = 7\n",
       "             levenshtein distance = 1\n",
       "             previous edit = \n",
       "                 None\n",
       "         ,\n",
       " \n",
       "         Edit of\n",
       "             content = mre\n",
       "             edit = me\n",
       "             type = delete\n",
       "             edit word probaility = 0.0017210701111972642\n",
       "             keyboard_distance = 1\n",
       "             levenshtein distance = 1\n",
       "             previous edit = \n",
       "                 None\n",
       "         ,\n",
       " \n",
       "         Edit of\n",
       "             content = mre\n",
       "             edit = mere\n",
       "             type = insert\n",
       "             edit word probaility = 7.08148639503041e-05\n",
       "             keyboard_distance = 6\n",
       "             levenshtein distance = 1\n",
       "             previous edit = \n",
       "                 None\n",
       "         ,\n",
       " \n",
       "         Edit of\n",
       "             content = mre\n",
       "             edit = more\n",
       "             type = insert\n",
       "             edit word probaility = 0.001790092193781738\n",
       "             keyboard_distance = 4\n",
       "             levenshtein distance = 1\n",
       "             previous edit = \n",
       "                 None\n",
       "         ,\n",
       " \n",
       "         Edit of\n",
       "             content = mre\n",
       "             edit = mr\n",
       "             type = delete\n",
       "             edit word probaility = 0.00032270064584948705\n",
       "             keyboard_distance = 0\n",
       "             levenshtein distance = 1\n",
       "             previous edit = \n",
       "                 None\n",
       "         ,\n",
       " \n",
       "         Edit of\n",
       "             content = mre\n",
       "             edit = mrs\n",
       "             type = replace\n",
       "             edit word probaility = 5.288705029199927e-05\n",
       "             keyboard_distance = 2\n",
       "             levenshtein distance = 1\n",
       "             previous edit = \n",
       "                 None\n",
       "         ,\n",
       " \n",
       "         Edit of\n",
       "             content = mre\n",
       "             edit = ore\n",
       "             type = replace\n",
       "             edit word probaility = 2.6891720487457255e-06\n",
       "             keyboard_distance = 4\n",
       "             levenshtein distance = 1\n",
       "             previous edit = \n",
       "                 None\n",
       "         ,\n",
       " \n",
       "         Edit of\n",
       "             content = mre\n",
       "             edit = pre\n",
       "             type = replace\n",
       "             edit word probaility = 1.3445860243728626e-05\n",
       "             keyboard_distance = 5\n",
       "             levenshtein distance = 1\n",
       "             previous edit = \n",
       "                 None\n",
       "         ,\n",
       " \n",
       "         Edit of\n",
       "             content = mre\n",
       "             edit = re\n",
       "             type = delete\n",
       "             edit word probaility = 0.00016941783907098069\n",
       "             keyboard_distance = -1\n",
       "             levenshtein distance = 1\n",
       "             previous edit = \n",
       "                 None\n",
       "         }"
      ]
     },
     "execution_count": 5,
     "metadata": {},
     "output_type": "execute_result"
    }
   ],
   "source": [
    "checker.candidates(\"mre\")"
   ]
  },
  {
   "cell_type": "code",
   "execution_count": 6,
   "id": "78adda5c",
   "metadata": {},
   "outputs": [
    {
     "data": {
      "text/plain": [
       "\n",
       "        Edit of\n",
       "            content = mre\n",
       "            edit = more\n",
       "            type = insert\n",
       "            edit word probaility = 0.001790092193781738\n",
       "            keyboard_distance = 4\n",
       "            levenshtein distance = 1\n",
       "            previous edit = \n",
       "                None\n",
       "        "
      ]
     },
     "execution_count": 6,
     "metadata": {},
     "output_type": "execute_result"
    }
   ],
   "source": [
    "checker.correction(\"mre\")"
   ]
  },
  {
   "cell_type": "code",
   "execution_count": 11,
   "id": "d38a87a2",
   "metadata": {},
   "outputs": [
    {
     "data": {
      "text/plain": [
       "\n",
       "        Edit of\n",
       "            content = whatevee\n",
       "            edit = whatever\n",
       "            type = replace\n",
       "            edit word probaility = 0.00010218853785233757\n",
       "            keyboard_distance = 1\n",
       "            levenshtein distance = 1\n",
       "            previous edit = \n",
       "                None\n",
       "        "
      ]
     },
     "execution_count": 11,
     "metadata": {},
     "output_type": "execute_result"
    }
   ],
   "source": [
    "checker.correction(\"whatevee\")"
   ]
  },
  {
   "cell_type": "code",
   "execution_count": 12,
   "id": "820005ad",
   "metadata": {},
   "outputs": [
    {
     "data": {
      "text/plain": [
       "{\n",
       "         Edit of\n",
       "             content = appll\n",
       "             edit = apple\n",
       "             type = replace\n",
       "             edit word probaility = 9.860297512067659e-06\n",
       "             keyboard_distance = 7\n",
       "             levenshtein distance = 1\n",
       "             previous edit = \n",
       "                 None\n",
       "         ,\n",
       " \n",
       "         Edit of\n",
       "             content = appll\n",
       "             edit = apply\n",
       "             type = replace\n",
       "             edit word probaility = 3.85447993653554e-05\n",
       "             keyboard_distance = 4\n",
       "             levenshtein distance = 1\n",
       "             previous edit = \n",
       "                 None\n",
       "         }"
      ]
     },
     "execution_count": 12,
     "metadata": {},
     "output_type": "execute_result"
    }
   ],
   "source": [
    "checker.candidates(\"appll\")"
   ]
  },
  {
   "cell_type": "markdown",
   "id": "dfa1d315",
   "metadata": {},
   "source": [
    "# Armenian"
   ]
  },
  {
   "cell_type": "code",
   "execution_count": 15,
   "id": "2cbf9e78",
   "metadata": {},
   "outputs": [
    {
     "data": {
      "text/plain": [
       "\n",
       "        Edit of\n",
       "            content = քննություլ\n",
       "            edit = քննություն\n",
       "            type = replace\n",
       "            edit word probaility = 3.924292548160881e-06\n",
       "            keyboard_distance = 5\n",
       "            levenshtein distance = 1\n",
       "            previous edit = \n",
       "                None\n",
       "        "
      ]
     },
     "execution_count": 15,
     "metadata": {},
     "output_type": "execute_result"
    }
   ],
   "source": [
    "checker = SpellChecker(language = \"am\", override_file = \"../texts/big_am.txt\")\n",
    "checker.correction(\"քննություլ\")"
   ]
  },
  {
   "cell_type": "markdown",
   "id": "ca38b31f",
   "metadata": {},
   "source": [
    "# 3Gram model"
   ]
  },
  {
   "cell_type": "code",
   "execution_count": 8,
   "id": "76bb550a",
   "metadata": {},
   "outputs": [],
   "source": [
    "model = NGramModel(\"en\", override_file = \"../texts/big_en.txt\")"
   ]
  },
  {
   "cell_type": "code",
   "execution_count": 10,
   "id": "d66f65c3",
   "metadata": {},
   "outputs": [
    {
     "data": {
      "text/plain": [
       "{'anaconda': 0.0,\n",
       " 'more': 0.0,\n",
       " 'to': 0.8,\n",
       " 'him': 0.0,\n",
       " 'today': 0.0,\n",
       " 'tomorrow': 0.0}"
      ]
     },
     "execution_count": 10,
     "metadata": {},
     "output_type": "execute_result"
    }
   ],
   "source": [
    "model.get_probabilities(\"I am going\", [\"anaconda\", \"more\", \"to\", \"him\", \"today\", \"tomorrow\"])"
   ]
  }
 ],
 "metadata": {
  "kernelspec": {
   "display_name": "Python 3 (ipykernel)",
   "language": "python",
   "name": "python3"
  },
  "language_info": {
   "codemirror_mode": {
    "name": "ipython",
    "version": 3
   },
   "file_extension": ".py",
   "mimetype": "text/x-python",
   "name": "python",
   "nbconvert_exporter": "python",
   "pygments_lexer": "ipython3",
   "version": "3.9.13"
  }
 },
 "nbformat": 4,
 "nbformat_minor": 5
}
