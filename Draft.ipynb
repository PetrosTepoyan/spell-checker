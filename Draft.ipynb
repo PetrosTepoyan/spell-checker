{
 "cells": [
  {
   "cell_type": "markdown",
   "id": "835652da",
   "metadata": {},
   "source": [
    "ideas\n",
    "\n",
    "if edit1 word is less common that edit2 word, then choose edit2 \n"
   ]
  },
  {
   "cell_type": "code",
   "execution_count": 1,
   "id": "995f58fb",
   "metadata": {},
   "outputs": [],
   "source": [
    "from enum import Enum\n",
    "\n",
    "class EditType(Enum):\n",
    "    none = 0\n",
    "    delete = 1\n",
    "    transpose = 2\n",
    "    replace = 3\n",
    "    insert = 4\n",
    "\n",
    "class Edit:\n",
    "    \n",
    "    def __init__(self, edit, edit_type: EditType = EditType.none, prev_edit = None, is_neighbour = False):\n",
    "        self.edit = edit\n",
    "        self.edit_type = edit_type\n",
    "        self.prev_edit = prev_edit\n",
    "        self.is_neighbour = is_neighbour\n",
    "        \n",
    "    def __hash__(self):\n",
    "        return hash((self.edit, self.edit_type))\n",
    "\n",
    "    def __eq__(self,other):\n",
    "        return self.edit == other.edit and self.edit_type == other.edit_type\n",
    "    \n",
    "    def __repr__(self):\n",
    "        return f\"\"\"\n",
    "        Edit\n",
    "            content = {self.edit}\n",
    "            type = {self.edit_type.name}\n",
    "            previous edit = \n",
    "                {self.prev_edit}\n",
    "            is neighbour = {self.is_neighbour}\n",
    "        \"\"\"\n",
    "    "
   ]
  },
  {
   "cell_type": "code",
   "execution_count": 17,
   "id": "abc3898c",
   "metadata": {},
   "outputs": [],
   "source": [
    "import re\n",
    "from collections import Counter\n",
    "from constants import letters, neighbour_letters\n",
    "\n",
    "class SpellChecker:\n",
    "    \n",
    "    def __init__(self, language = \"en\"):\n",
    "        \n",
    "        file_to_open = f'big_{language}.txt'\n",
    "        \n",
    "        with open(file_to_open, \"r\") as file:\n",
    "            raw_text = file.read()\n",
    "            raw_words = re.findall(r'\\w+', raw_text.lower())\n",
    "            self.WORDS = Counter(raw_words)\n",
    "        \n",
    "        self.N = sum(self.WORDS.values())\n",
    "        self.letters = letters[language]\n",
    "        self.neighbour_letters = neighbour_letters[language]\n",
    "        \n",
    "        \n",
    "    def P(self, edit: Edit): \n",
    "        \"Probability of `edit`.\"\n",
    "        \n",
    "        return self.WORDS[edit.edit] / self.N\n",
    "\n",
    "    def correction(self, word): \n",
    "        \"Most probable spelling correction for word.\"\n",
    "        return max(self.candidates(word), key=self.P)\n",
    "\n",
    "    def candidates(self, word): \n",
    "        \"Generate possible spelling corrections for word.\"\n",
    "        return (self.known([Edit(word)]) or self.known(self.edits1(word)) or self.known(self.edits2(word)) or [Edit(word)])\n",
    "\n",
    "    def known(self, edits): \n",
    "        \"The subset of `words` that appear in the dictionary of WORDS.\"\n",
    "        return set(w for w in edits if w.edit in self.WORDS)\n",
    "\n",
    "    def edits1(self, word, prev_edit: Edit = None):\n",
    "        \"All edits that are one edit away from `word`.\"\n",
    "        letters    = self.letters\n",
    "        splits     = [(word[:i], word[i:])    for i in range(len(word) + 1)]\n",
    "        \n",
    "        deletes    = set(self.__edits_deletes(splits, prev_edit))\n",
    "        transposes = set(self.__edits_transposes(splits, prev_edit))\n",
    "        replaces   = set(self.__edits_replaces(splits, prev_edit))\n",
    "        inserts    = set(self.__edits_inserts(splits, prev_edit))\n",
    "        all_set = deletes.union(transposes).union(replaces).union(inserts)\n",
    "        return all_set\n",
    "\n",
    "    def edits2(self, word): \n",
    "        \"All edits that are two edits away from `word`.\"\n",
    "        return (e2 for e1 in self.edits1(word) for e2 in self.edits1(e1.edit, prev_edit = e1))\n",
    "    \n",
    "    def __edits_transposes(self, splits, prev_edit: Edit):\n",
    "        return {Edit(L + R[1] + R[0] + R[2:], EditType.transpose, prev_edit, False) for L, R in splits if len(R)>1}\n",
    "    \n",
    "    def __edits_inserts(self, splits, prev_edit: Edit):\n",
    "        return {Edit(L + c + R, EditType.insert, prev_edit, False) for L, R in splits for c in self.letters}\n",
    "    \n",
    "    def __edits_deletes(self, splits, prev_edit: Edit):\n",
    "        for L, R in splits:\n",
    "            if R:\n",
    "                omitted = R[0]\n",
    "                next_to_omitted = self.neighbour_letters[omitted]\n",
    "                \n",
    "                # Right is neighbour\n",
    "                if len(R) > 1:\n",
    "                    right = R[1]\n",
    "                    right_is_neighbour = right in next_to_omitted\n",
    "                else:\n",
    "                    right_is_neighbour = False\n",
    "                \n",
    "                # Left is neighbour\n",
    "                if len(L) > 0:\n",
    "                    left = L[-1]\n",
    "                    left_is_neighbour = left in next_to_omitted\n",
    "                else:\n",
    "                    left_is_neighbour = False\n",
    "                \n",
    "                is_neighbour = left_is_neighbour or right_is_neighbour\n",
    "\n",
    "                yield Edit(L + R[1:], EditType.delete, prev_edit, is_neighbour)\n",
    "    \n",
    "    def __edits_replaces(self, splits, prev_edit: Edit):\n",
    "        for L, R in splits:\n",
    "            if R:\n",
    "                for c in letters:\n",
    "                    \n",
    "                    omitted = R[0]\n",
    "                    next_to_omitted = self.neighbour_letters[omitted]\n",
    "                    is_neighbour = c in next_to_omitted\n",
    "                    \n",
    "                    yield Edit(L + c + R[1:], EditType.replace, prev_edit, is_neighbour)\n",
    "    "
   ]
  },
  {
   "cell_type": "code",
   "execution_count": 18,
   "id": "c503cdff",
   "metadata": {},
   "outputs": [],
   "source": [
    "checker = SpellChecker()"
   ]
  },
  {
   "cell_type": "code",
   "execution_count": 21,
   "id": "a4500618",
   "metadata": {},
   "outputs": [
    {
     "data": {
      "text/plain": [
       "37"
      ]
     },
     "execution_count": 21,
     "metadata": {},
     "output_type": "execute_result"
    }
   ],
   "source": [
    "candidates = checker.candidates(\"receit\")\n",
    "len(checker.edits1(\"receit\"))"
   ]
  },
  {
   "cell_type": "code",
   "execution_count": 11,
   "id": "9d193dd3",
   "metadata": {},
   "outputs": [],
   "source": [
    "ed = checker.edits1(\"receit\")\n",
    "deletes, transposes, replaces, inserts = ed"
   ]
  },
  {
   "cell_type": "code",
   "execution_count": 12,
   "id": "117ce177",
   "metadata": {},
   "outputs": [
    {
     "name": "stdout",
     "output_type": "stream",
     "text": [
      "6 5 12 14\n"
     ]
    }
   ],
   "source": [
    "print(len(deletes), len(transposes), len(replaces), len(inserts))"
   ]
  },
  {
   "cell_type": "code",
   "execution_count": 16,
   "id": "d5678785",
   "metadata": {},
   "outputs": [
    {
     "data": {
      "text/plain": [
       "37"
      ]
     },
     "execution_count": 16,
     "metadata": {},
     "output_type": "execute_result"
    }
   ],
   "source": [
    "len(deletes.union(transposes).union(replaces).union(inserts))"
   ]
  },
  {
   "cell_type": "code",
   "execution_count": 22,
   "id": "bc128a9b",
   "metadata": {},
   "outputs": [
    {
     "data": {
      "text/plain": [
       "{\n",
       "         Edit\n",
       "             content = amreceit\n",
       "             type = insert\n",
       "             previous edit = \n",
       "                 None\n",
       "             is neighbour = False\n",
       "         ,\n",
       " \n",
       "         Edit\n",
       "             content = enreceit\n",
       "             type = insert\n",
       "             previous edit = \n",
       "                 None\n",
       "             is neighbour = False\n",
       "         ,\n",
       " \n",
       "         Edit\n",
       "             content = rameceit\n",
       "             type = insert\n",
       "             previous edit = \n",
       "                 None\n",
       "             is neighbour = False\n",
       "         ,\n",
       " \n",
       "         Edit\n",
       "             content = reamceit\n",
       "             type = insert\n",
       "             previous edit = \n",
       "                 None\n",
       "             is neighbour = False\n",
       "         ,\n",
       " \n",
       "         Edit\n",
       "             content = recameit\n",
       "             type = insert\n",
       "             previous edit = \n",
       "                 None\n",
       "             is neighbour = False\n",
       "         ,\n",
       " \n",
       "         Edit\n",
       "             content = receamit\n",
       "             type = insert\n",
       "             previous edit = \n",
       "                 None\n",
       "             is neighbour = False\n",
       "         ,\n",
       " \n",
       "         Edit\n",
       "             content = receenit\n",
       "             type = insert\n",
       "             previous edit = \n",
       "                 None\n",
       "             is neighbour = False\n",
       "         ,\n",
       " \n",
       "         Edit\n",
       "             content = receiamt\n",
       "             type = insert\n",
       "             previous edit = \n",
       "                 None\n",
       "             is neighbour = False\n",
       "         ,\n",
       " \n",
       "         Edit\n",
       "             content = receient\n",
       "             type = insert\n",
       "             previous edit = \n",
       "                 None\n",
       "             is neighbour = False\n",
       "         ,\n",
       " \n",
       "         Edit\n",
       "             content = receitam\n",
       "             type = insert\n",
       "             previous edit = \n",
       "                 None\n",
       "             is neighbour = False\n",
       "         ,\n",
       " \n",
       "         Edit\n",
       "             content = receiten\n",
       "             type = insert\n",
       "             previous edit = \n",
       "                 None\n",
       "             is neighbour = False\n",
       "         ,\n",
       " \n",
       "         Edit\n",
       "             content = receneit\n",
       "             type = insert\n",
       "             previous edit = \n",
       "                 None\n",
       "             is neighbour = False\n",
       "         ,\n",
       " \n",
       "         Edit\n",
       "             content = reenceit\n",
       "             type = insert\n",
       "             previous edit = \n",
       "                 None\n",
       "             is neighbour = False\n",
       "         ,\n",
       " \n",
       "         Edit\n",
       "             content = reneceit\n",
       "             type = insert\n",
       "             previous edit = \n",
       "                 None\n",
       "             is neighbour = False\n",
       "         }"
      ]
     },
     "execution_count": 22,
     "metadata": {},
     "output_type": "execute_result"
    }
   ],
   "source": [
    "inserts"
   ]
  },
  {
   "cell_type": "code",
   "execution_count": null,
   "id": "6d2a8b4c",
   "metadata": {},
   "outputs": [],
   "source": []
  }
 ],
 "metadata": {
  "kernelspec": {
   "display_name": "Python 3 (ipykernel)",
   "language": "python",
   "name": "python3"
  },
  "language_info": {
   "codemirror_mode": {
    "name": "ipython",
    "version": 3
   },
   "file_extension": ".py",
   "mimetype": "text/x-python",
   "name": "python",
   "nbconvert_exporter": "python",
   "pygments_lexer": "ipython3",
   "version": "3.9.13"
  }
 },
 "nbformat": 4,
 "nbformat_minor": 5
}
