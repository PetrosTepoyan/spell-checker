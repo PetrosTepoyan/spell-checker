{
 "cells": [
  {
   "cell_type": "markdown",
   "id": "7d31658f",
   "metadata": {},
   "source": [
    "ideas\n",
    "\n",
    "if edit1 word is less common that edit2 word, then choose edit2 \n"
   ]
  },
  {
   "cell_type": "code",
   "execution_count": 32,
   "id": "3d39cb11",
   "metadata": {},
   "outputs": [
    {
     "data": {
      "text/plain": [
       "7"
      ]
     },
     "execution_count": 32,
     "metadata": {},
     "output_type": "execute_result"
    }
   ],
   "source": [
    "from Levenshtein import distance as levenshtein_distance_function\n",
    "levenshtein_distance(\"urytop\", \"ahjbfds\")"
   ]
  },
  {
   "cell_type": "code",
   "execution_count": 112,
   "id": "fad4cdd6",
   "metadata": {},
   "outputs": [],
   "source": [
    "from enum import Enum\n",
    "import numpy as np\n",
    "\n",
    "class EditType(Enum):\n",
    "    none = 0\n",
    "    insert = 1\n",
    "    replace = 2\n",
    "    delete = 3\n",
    "    transpose = 4\n",
    "    \n",
    "    def __lt__(self, other):\n",
    "        self.value < other.value\n",
    "        \n",
    "    def probability(self):\n",
    "        \"\"\"\n",
    "            A paper by Kukich (1992) suggested the following\n",
    "            error rates based on an analysis of spelling errors\n",
    "            in various databases:\n",
    "\n",
    "            Substitution errors: 80%\n",
    "            Deletion errors: 10%\n",
    "            Insertion errors: 5%\n",
    "            Transposition errors: 5%\n",
    "        \"\"\"\n",
    "        \n",
    "        \n",
    "        if self == EditType.none:\n",
    "            return 0\n",
    "        elif self == EditType.insert:\n",
    "            return 0.05\n",
    "        elif self == EditType.replace:\n",
    "            return 0.8\n",
    "        elif self == EditType.delete:\n",
    "            return 0.1\n",
    "        else:\n",
    "            return 0.05\n",
    "\n",
    "class Edit:\n",
    "    \n",
    "    def __init__(self, \n",
    "                 word, \n",
    "                 edit,\n",
    "                 edit_type: EditType,\n",
    "                 edit_word_probability,\n",
    "                 keyboard_distance,\n",
    "                 prev_edit = None):\n",
    "        self.word = word # the misspelled word\n",
    "        self.edit = edit # the edit that would fix the misspelled word\n",
    "        self.edit_type = edit_type # edit type, refer to the enum above\n",
    "        self.prev_edit = prev_edit # reference to the previous edit, if any\n",
    "        self.edit_word_probability = edit_word_probability # the probability of the suggested edit to occur in the whole text curpus\n",
    "        self.keyboard_distance = keyboard_distance # for example, if edit_type is replace, keyboard_distance is the manhattan distance between the correct and wrong letters on a qwerty layout keyabord\n",
    "        self.levenshtein_distance = levenshtein_distance_function(word, edit)\n",
    "        \n",
    "    def __hash__(self):\n",
    "        return hash((self.edit, self.edit_type))\n",
    "\n",
    "    def __eq__(self,other):\n",
    "        return self.edit == other.edit and self.edit_type == other.edit_type\n",
    "    \n",
    "    def __repr__(self):\n",
    "        return f\"\"\"\n",
    "        Edit of\n",
    "            content = {self.word}\n",
    "            edit = {self.edit}\n",
    "            type = {self.edit_type.name}\n",
    "            edit word probaility = {self.edit_word_probability}\n",
    "            keyboard_distance = {self.keyboard_distance}\n",
    "            levenshtein distance = {self.levenshtein_distance}\n",
    "            previous edit = \n",
    "                {self.prev_edit}\n",
    "        \"\"\"\n",
    "    \n",
    "    def probability(self, keyboard_weight = 1.0, edit_type_weight = 1.0, word_probability_weight = 5.0):\n",
    "        keyboard_weight = keyboard_weight\n",
    "        edit_type_weight = edit_type_weight\n",
    "        word_probability_weight = word_probability_weight  # Give more weight to word probability\n",
    "\n",
    "        keyboard_distance_score = 1 / (self.keyboard_distance + 1e-3)  # Add small constant to avoid division by zero\n",
    "        edit_type_probability = self.edit_type.probability()\n",
    "\n",
    "        # Use logarithm of word probability to provide a stronger differentiation between words\n",
    "        word_probability = np.log(self.edit_word_probability + 1e-10)  # Add small constant to ensure the logarithm is defined\n",
    "\n",
    "        return (\n",
    "            keyboard_weight * keyboard_distance_score +\n",
    "            edit_type_weight * edit_type_probability +\n",
    "            word_probability_weight * word_probability\n",
    "        )\n",
    "\n"
   ]
  },
  {
   "cell_type": "code",
   "execution_count": 103,
   "id": "b54a6d6a",
   "metadata": {},
   "outputs": [],
   "source": [
    "import re\n",
    "from collections import Counter\n",
    "from constants import keyboard_letters, neighbour_letters, keyboard_layouts\n",
    "\n",
    "class SpellChecker:\n",
    "    \n",
    "    def __init__(self, language = \"en\"):\n",
    "        \n",
    "        file_to_open = f'big_{language}.txt'\n",
    "        \n",
    "        with open(file_to_open, \"r\") as file:\n",
    "            raw_text = file.read()\n",
    "            raw_words = re.findall(r'\\w+', raw_text.lower())\n",
    "            self.WORDS = Counter(raw_words)\n",
    "        \n",
    "        self.N = sum(self.WORDS.values())\n",
    "        self.letters = keyboard_letters[language]\n",
    "        self.neighbour_letters = neighbour_letters[language]\n",
    "        self.keyboard_layout = keyboard_layouts[language]\n",
    "        \n",
    "    def keyboard_distance(self, key1, key2):\n",
    "\n",
    "        key_coordinates = {}\n",
    "\n",
    "        for i, row in enumerate(self.keyboard_layout):\n",
    "            for j, key in enumerate(row):\n",
    "                key_coordinates[key] = (i, j)\n",
    "\n",
    "        if key1 not in key_coordinates or key2 not in key_coordinates:\n",
    "            raise ValueError(\"Both keys must be on the keyboard\")\n",
    "\n",
    "        x1, y1 = key_coordinates[key1]\n",
    "        x2, y2 = key_coordinates[key2]\n",
    "\n",
    "        return abs(x1 - x2) + abs(y1 - y2)\n",
    "        \n",
    "    def P(self, word): \n",
    "        \"Probability of `word`.\"\n",
    "        \n",
    "        # first sort by probability, then sort by edit_type, then sort by keyboard distance, if any\n",
    "        return self.WORDS[word] / self.N\n",
    "\n",
    "    def correction(self, word): \n",
    "        \"Most probable spelling correction for word.\"\n",
    "        \n",
    "        # correction is defined as following:\n",
    "        candidates = list(self.candidates(word))\n",
    "        \n",
    "        candidates.sort(key = lambda x: checker.P(x), reverse = True)\n",
    "        candidates.sort(key = lambda x: x.keyboard_distance)\n",
    "        candidates.sort(key = lambda x: x.edit_type.value)\n",
    "        \n",
    "        return candidates[0]\n",
    "\n",
    "    def candidates(self, word): \n",
    "        \"Generate possible spelling corrections for word.\"\n",
    "        return (self.known([Edit(word, word, EditType.none, 0, 0)]) or self.known(self.edits1(word)) or self.known(self.edits2(word)) or [Edit(word, word, EditType.none, 0, 0)])\n",
    "\n",
    "    def known(self, edits): \n",
    "        \"The subset of `words` that appear in the dictionary of WORDS.\"\n",
    "        return set(w for w in edits if w.edit in self.WORDS)\n",
    "\n",
    "    def edits1(self, word, prev_edit: Edit = None):\n",
    "        \"All edits that are one edit away from `word`.\"\n",
    "        splits     = [(word[:i], word[i:])    for i in range(len(word) + 1)]\n",
    "        \n",
    "        deletes    = set(self.__edits_deletes(word, splits, prev_edit))\n",
    "        transposes = set(self.__edits_transposes(word, splits, prev_edit))\n",
    "        replaces   = set(self.__edits_replaces(word, splits, prev_edit))\n",
    "        inserts    = set(self.__edits_inserts(word, splits, prev_edit))\n",
    "        all_set = deletes.union(transposes).union(replaces).union(inserts)\n",
    "        return all_set\n",
    "\n",
    "    def edits2(self, word): \n",
    "        \"All edits that are two edits away from `word`.\"\n",
    "        return (e2 for e1 in self.edits1(word) for e2 in self.edits1(e1.edit, prev_edit = e1))\n",
    "    \n",
    "    def __edits_transposes(self, word, splits, prev_edit: Edit):\n",
    "        for L, R in splits:\n",
    "            if len(R) > 1:\n",
    "                edit_word = L + R[1] + R[0] + R[2:]\n",
    "                yield Edit(\n",
    "                    word = word, \n",
    "                    edit = edit_word,\n",
    "                    edit_type = EditType.transpose,\n",
    "                    prev_edit = prev_edit, \n",
    "                    edit_word_probability = self.P(edit_word),\n",
    "                    keyboard_distance = 1\n",
    "                )\n",
    "    \n",
    "    def __edits_inserts(self, word, splits, prev_edit: Edit):\n",
    "        for L, R in splits:\n",
    "            for c in self.letters:\n",
    "                \n",
    "                # Left's distance\n",
    "                if len(L) > 0:\n",
    "                    left = L[-1]\n",
    "                    L_distance = self.keyboard_distance(left, c)\n",
    "                else:\n",
    "                    L_distance = -1\n",
    "                \n",
    "                edit_word = L + c + R\n",
    "                yield Edit(\n",
    "                    word = word,\n",
    "                    edit = edit_word,\n",
    "                    edit_type = EditType.insert,\n",
    "                    prev_edit = prev_edit,\n",
    "                    edit_word_probability = self.P(edit_word),\n",
    "                    keyboard_distance = L_distance)\n",
    "    \n",
    "    def __edits_deletes(self, word, splits, prev_edit: Edit):\n",
    "        for L, R in splits:\n",
    "            if R:\n",
    "                omitted = R[0]\n",
    "                \n",
    "                # Left's distance\n",
    "                if len(L) > 0:\n",
    "                    left = L[-1]\n",
    "                    L_distance = self.keyboard_distance(left, omitted)\n",
    "                else:\n",
    "                    L_distance = -1\n",
    "                    \n",
    "                # Left's distance\n",
    "                if len(R) > 0:\n",
    "                    right = R[-1]\n",
    "                    R_distance = self.keyboard_distance(right, omitted)\n",
    "                else:\n",
    "                    R_distance = -1\n",
    "                \n",
    "                key_distance = min(L_distance, R_distance)\n",
    "                edit_word = L + R[1:]\n",
    "                yield Edit(\n",
    "                    word = word,\n",
    "                    edit = edit_word,\n",
    "                    edit_type = EditType.delete,\n",
    "                    prev_edit = prev_edit, \n",
    "                    edit_word_probability = self.P(edit_word),\n",
    "                    keyboard_distance = key_distance\n",
    "                )\n",
    "    \n",
    "    def __edits_replaces(self, word, splits, prev_edit: Edit):\n",
    "        for L, R in splits:\n",
    "            if R:\n",
    "                for c in self.letters:\n",
    "                    \n",
    "                    omitted = R[0]\n",
    "                    key_distance = self.keyboard_distance(c, omitted)\n",
    "                    edit_word = L + c + R[1:]\n",
    "                    yield Edit(\n",
    "                        word = word, \n",
    "                        edit = edit_word,\n",
    "                        edit_type = EditType.replace, \n",
    "                        prev_edit = prev_edit,\n",
    "                        edit_word_probability = self.P(edit_word),\n",
    "                        keyboard_distance = key_distance\n",
    "                    )\n",
    "    "
   ]
  },
  {
   "cell_type": "code",
   "execution_count": 104,
   "id": "950d483b",
   "metadata": {},
   "outputs": [],
   "source": [
    "checker = SpellChecker()"
   ]
  },
  {
   "cell_type": "code",
   "execution_count": 105,
   "id": "2bdc709a",
   "metadata": {},
   "outputs": [
    {
     "data": {
      "text/plain": [
       "32198"
      ]
     },
     "execution_count": 105,
     "metadata": {},
     "output_type": "execute_result"
    }
   ],
   "source": [
    "len(checker.WORDS)"
   ]
  },
  {
   "cell_type": "code",
   "execution_count": 106,
   "id": "7d1bc255",
   "metadata": {},
   "outputs": [
    {
     "data": {
      "text/plain": [
       "\n",
       "        Edit of\n",
       "            content = receit\n",
       "            edit = receipt\n",
       "            type = insert\n",
       "            edit word probaility = 1.1653078877898144e-05\n",
       "            keyboard_distance = 2\n",
       "            levenshtein distance = 1\n",
       "            previous edit = \n",
       "                None\n",
       "        "
      ]
     },
     "execution_count": 106,
     "metadata": {},
     "output_type": "execute_result"
    }
   ],
   "source": [
    "checker.correction(\"receit\")"
   ]
  },
  {
   "cell_type": "code",
   "execution_count": 107,
   "id": "f337b5dc",
   "metadata": {},
   "outputs": [
    {
     "data": {
      "text/plain": [
       "[\n",
       "         Edit of\n",
       "             content = receit\n",
       "             edit = receipt\n",
       "             type = insert\n",
       "             edit word probaility = 1.1653078877898144e-05\n",
       "             keyboard_distance = 2\n",
       "             levenshtein distance = 1\n",
       "             previous edit = \n",
       "                 None\n",
       "         ,\n",
       " \n",
       "         Edit of\n",
       "             content = receit\n",
       "             edit = deceit\n",
       "             type = replace\n",
       "             edit word probaility = 3.585562731660967e-06\n",
       "             keyboard_distance = 2\n",
       "             levenshtein distance = 1\n",
       "             previous edit = \n",
       "                 None\n",
       "         ,\n",
       " \n",
       "         Edit of\n",
       "             content = receit\n",
       "             edit = recent\n",
       "             type = replace\n",
       "             edit word probaility = 4.750870619450781e-05\n",
       "             keyboard_distance = 4\n",
       "             levenshtein distance = 1\n",
       "             previous edit = \n",
       "                 None\n",
       "         ]"
      ]
     },
     "execution_count": 107,
     "metadata": {},
     "output_type": "execute_result"
    }
   ],
   "source": [
    "candidates = list(checker.candidates(\"receit\")) # receipt\n",
    "candidates.sort(key = lambda x: checker.P(x), reverse = True)\n",
    "candidates.sort(key = lambda x: x.keyboard_distance)\n",
    "candidates.sort(key = lambda x: x.edit_type.value)\n",
    "candidates"
   ]
  },
  {
   "cell_type": "code",
   "execution_count": 108,
   "id": "4b29ffdb",
   "metadata": {},
   "outputs": [
    {
     "data": {
      "text/plain": [
       "[(0.0, 'deceit'), (0.0, 'recent'), (0.0, 'receipt')]"
      ]
     },
     "execution_count": 108,
     "metadata": {},
     "output_type": "execute_result"
    }
   ],
   "source": [
    "candidates = list(checker.candidates(\"receit\")) # receipt\n",
    "[(edit.probability(), edit.edit) for edit in candidates]"
   ]
  },
  {
   "cell_type": "code",
   "execution_count": 109,
   "id": "5f34af1f",
   "metadata": {},
   "outputs": [
    {
     "ename": "TypeError",
     "evalue": "__init__() missing 4 required positional arguments: 'edit', 'edit_type', 'edit_word_probability', and 'keyboard_distance'",
     "output_type": "error",
     "traceback": [
      "\u001b[0;31m---------------------------------------------------------------------------\u001b[0m",
      "\u001b[0;31mTypeError\u001b[0m                                 Traceback (most recent call last)",
      "Input \u001b[0;32mIn [109]\u001b[0m, in \u001b[0;36m<cell line: 1>\u001b[0;34m()\u001b[0m\n\u001b[0;32m----> 1\u001b[0m checker\u001b[38;5;241m.\u001b[39mP(\u001b[43mEdit\u001b[49m\u001b[43m(\u001b[49m\u001b[38;5;124;43m\"\u001b[39;49m\u001b[38;5;124;43mrecent\u001b[39;49m\u001b[38;5;124;43m\"\u001b[39;49m\u001b[43m)\u001b[49m)\n",
      "\u001b[0;31mTypeError\u001b[0m: __init__() missing 4 required positional arguments: 'edit', 'edit_type', 'edit_word_probability', and 'keyboard_distance'"
     ]
    }
   ],
   "source": [
    "checker.P(Edit(\"recent\"))"
   ]
  },
  {
   "cell_type": "code",
   "execution_count": 110,
   "id": "09dde287",
   "metadata": {},
   "outputs": [
    {
     "data": {
      "text/plain": [
       "\n",
       "        Edit of\n",
       "            content = mre\n",
       "            edit = more\n",
       "            type = insert\n",
       "            edit word probaility = 0.001790092193781738\n",
       "            keyboard_distance = 4\n",
       "            levenshtein distance = 1\n",
       "            previous edit = \n",
       "                None\n",
       "        "
      ]
     },
     "execution_count": 110,
     "metadata": {},
     "output_type": "execute_result"
    }
   ],
   "source": [
    "checker.correction(\"mre\")"
   ]
  },
  {
   "cell_type": "code",
   "execution_count": 111,
   "id": "83c2d2a4",
   "metadata": {},
   "outputs": [
    {
     "data": {
      "text/plain": [
       "{\n",
       "         Edit of\n",
       "             content = mre\n",
       "             edit = are\n",
       "             type = replace\n",
       "             edit word probaility = 0.0032538981789823275\n",
       "             keyboard_distance = 7\n",
       "             levenshtein distance = 1\n",
       "             previous edit = \n",
       "                 None\n",
       "         ,\n",
       " \n",
       "         Edit of\n",
       "             content = mre\n",
       "             edit = ere\n",
       "             type = replace\n",
       "             edit word probaility = 8.963906829152417e-07\n",
       "             keyboard_distance = 6\n",
       "             levenshtein distance = 1\n",
       "             previous edit = \n",
       "                 None\n",
       "         ,\n",
       " \n",
       "         Edit of\n",
       "             content = mre\n",
       "             edit = ire\n",
       "             type = replace\n",
       "             edit word probaility = 8.963906829152417e-07\n",
       "             keyboard_distance = 3\n",
       "             levenshtein distance = 1\n",
       "             previous edit = \n",
       "                 None\n",
       "         ,\n",
       " \n",
       "         Edit of\n",
       "             content = mre\n",
       "             edit = mare\n",
       "             type = insert\n",
       "             edit word probaility = 4.481953414576209e-06\n",
       "             keyboard_distance = 7\n",
       "             levenshtein distance = 1\n",
       "             previous edit = \n",
       "                 None\n",
       "         ,\n",
       " \n",
       "         Edit of\n",
       "             content = mre\n",
       "             edit = me\n",
       "             type = delete\n",
       "             edit word probaility = 0.0017210701111972642\n",
       "             keyboard_distance = 1\n",
       "             levenshtein distance = 1\n",
       "             previous edit = \n",
       "                 None\n",
       "         ,\n",
       " \n",
       "         Edit of\n",
       "             content = mre\n",
       "             edit = mere\n",
       "             type = insert\n",
       "             edit word probaility = 7.08148639503041e-05\n",
       "             keyboard_distance = 6\n",
       "             levenshtein distance = 1\n",
       "             previous edit = \n",
       "                 None\n",
       "         ,\n",
       " \n",
       "         Edit of\n",
       "             content = mre\n",
       "             edit = more\n",
       "             type = insert\n",
       "             edit word probaility = 0.001790092193781738\n",
       "             keyboard_distance = 4\n",
       "             levenshtein distance = 1\n",
       "             previous edit = \n",
       "                 None\n",
       "         ,\n",
       " \n",
       "         Edit of\n",
       "             content = mre\n",
       "             edit = mr\n",
       "             type = delete\n",
       "             edit word probaility = 0.00032270064584948705\n",
       "             keyboard_distance = 0\n",
       "             levenshtein distance = 1\n",
       "             previous edit = \n",
       "                 None\n",
       "         ,\n",
       " \n",
       "         Edit of\n",
       "             content = mre\n",
       "             edit = mrs\n",
       "             type = replace\n",
       "             edit word probaility = 5.288705029199927e-05\n",
       "             keyboard_distance = 2\n",
       "             levenshtein distance = 1\n",
       "             previous edit = \n",
       "                 None\n",
       "         ,\n",
       " \n",
       "         Edit of\n",
       "             content = mre\n",
       "             edit = ore\n",
       "             type = replace\n",
       "             edit word probaility = 2.6891720487457255e-06\n",
       "             keyboard_distance = 4\n",
       "             levenshtein distance = 1\n",
       "             previous edit = \n",
       "                 None\n",
       "         ,\n",
       " \n",
       "         Edit of\n",
       "             content = mre\n",
       "             edit = pre\n",
       "             type = replace\n",
       "             edit word probaility = 1.3445860243728626e-05\n",
       "             keyboard_distance = 5\n",
       "             levenshtein distance = 1\n",
       "             previous edit = \n",
       "                 None\n",
       "         ,\n",
       " \n",
       "         Edit of\n",
       "             content = mre\n",
       "             edit = re\n",
       "             type = delete\n",
       "             edit word probaility = 0.00016941783907098069\n",
       "             keyboard_distance = -1\n",
       "             levenshtein distance = 1\n",
       "             previous edit = \n",
       "                 None\n",
       "         }"
      ]
     },
     "execution_count": 111,
     "metadata": {},
     "output_type": "execute_result"
    }
   ],
   "source": [
    "candidates = checker.candidates(\"mre\") # more\n",
    "candidates"
   ]
  },
  {
   "cell_type": "code",
   "execution_count": 87,
   "id": "f4643f8e",
   "metadata": {},
   "outputs": [
    {
     "data": {
      "text/plain": [
       "\n",
       "        Edit\n",
       "            content = ever\n",
       "            type = replace\n",
       "            previous edit = \n",
       "                None\n",
       "            keyboard_distance = 3\n",
       "        "
      ]
     },
     "execution_count": 87,
     "metadata": {},
     "output_type": "execute_result"
    }
   ],
   "source": [
    "checker.correction(\"evar\")"
   ]
  },
  {
   "cell_type": "code",
   "execution_count": 35,
   "id": "304027d0",
   "metadata": {},
   "outputs": [
    {
     "data": {
      "text/plain": [
       "{\n",
       "         Edit\n",
       "             content = ear\n",
       "             type = delete\n",
       "             previous edit = \n",
       "                 None\n",
       "             keyboard_distance = 2\n",
       "         ,\n",
       " \n",
       "         Edit\n",
       "             content = eva\n",
       "             type = delete\n",
       "             previous edit = \n",
       "                 None\n",
       "             keyboard_distance = 0\n",
       "         ,\n",
       " \n",
       "         Edit\n",
       "             content = ever\n",
       "             type = replace\n",
       "             previous edit = \n",
       "                 None\n",
       "             keyboard_distance = 3\n",
       "         }"
      ]
     },
     "execution_count": 35,
     "metadata": {},
     "output_type": "execute_result"
    }
   ],
   "source": [
    "candidates = checker.candidates(\"evar\") # ever\n",
    "candidates"
   ]
  },
  {
   "cell_type": "code",
   "execution_count": null,
   "id": "ba6e93e4",
   "metadata": {},
   "outputs": [],
   "source": []
  },
  {
   "cell_type": "code",
   "execution_count": null,
   "id": "d9985d22",
   "metadata": {},
   "outputs": [],
   "source": []
  }
 ],
 "metadata": {
  "kernelspec": {
   "display_name": "Python 3 (ipykernel)",
   "language": "python",
   "name": "python3"
  },
  "language_info": {
   "codemirror_mode": {
    "name": "ipython",
    "version": 3
   },
   "file_extension": ".py",
   "mimetype": "text/x-python",
   "name": "python",
   "nbconvert_exporter": "python",
   "pygments_lexer": "ipython3",
   "version": "3.9.13"
  }
 },
 "nbformat": 4,
 "nbformat_minor": 5
}
