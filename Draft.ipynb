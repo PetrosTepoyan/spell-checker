{
 "cells": [
  {
   "cell_type": "code",
   "execution_count": null,
   "id": "e03ecbc8",
   "metadata": {},
   "outputs": [],
   "source": [
    "correct = [\"գիրք\", \"տետր\", \"պատուհան\", \"Կարինե\", \"կարտոֆիլ\", \"գրիչ\", \"անհավանական\", \"քննություն\", \"արհեստական\", \"բնական\", \"համակարգիչ\", \"մատիտ\", \"սեղան\", \"գրատախտակ\", \"ականջակալ\", \"քաղաք\", \"հանրապետություն\", \"թուղթ\", \"գրադարան\", \"վարձակալություն\", \"գրագետ\"]\n",
    "correct = [\"գիրտ\", \"տետհ\", \"պատուեան\", \"ուարինե\", \"կարտոֆիլ\", \"գրիչ\", \"անհավանական\", \"քննություն\", \"արհեստական\", \"բնական\", \"համակարգիչ\", \"մատիտ\", \"սեղան\", \"գրատախտակ\", \"ականջակալ\", \"քաղաք\", \"հանրապետություն\", \"թուղթ\", \"գրադարան\", \"վարձակալություն\", \"գրագետ\"]\n"
   ]
  },
  {
   "cell_type": "code",
   "execution_count": 115,
   "id": "950d483b",
   "metadata": {},
   "outputs": [],
   "source": [
    "checker = SpellChecker()"
   ]
  },
  {
   "cell_type": "code",
   "execution_count": 116,
   "id": "2bdc709a",
   "metadata": {},
   "outputs": [
    {
     "data": {
      "text/plain": [
       "32198"
      ]
     },
     "execution_count": 116,
     "metadata": {},
     "output_type": "execute_result"
    }
   ],
   "source": [
    "len(checker.WORDS)"
   ]
  },
  {
   "cell_type": "code",
   "execution_count": 117,
   "id": "7d1bc255",
   "metadata": {},
   "outputs": [
    {
     "data": {
      "text/plain": [
       "\n",
       "        Edit of\n",
       "            content = receit\n",
       "            edit = receipt\n",
       "            type = insert\n",
       "            edit word probaility = 1.1653078877898144e-05\n",
       "            keyboard_distance = 2\n",
       "            levenshtein distance = 1\n",
       "            previous edit = \n",
       "                None\n",
       "        "
      ]
     },
     "execution_count": 117,
     "metadata": {},
     "output_type": "execute_result"
    }
   ],
   "source": [
    "checker.correction(\"receit\")"
   ]
  },
  {
   "cell_type": "code",
   "execution_count": 118,
   "id": "f337b5dc",
   "metadata": {},
   "outputs": [
    {
     "data": {
      "text/plain": [
       "[\n",
       "         Edit of\n",
       "             content = receit\n",
       "             edit = receipt\n",
       "             type = insert\n",
       "             edit word probaility = 1.1653078877898144e-05\n",
       "             keyboard_distance = 2\n",
       "             levenshtein distance = 1\n",
       "             previous edit = \n",
       "                 None\n",
       "         ,\n",
       " \n",
       "         Edit of\n",
       "             content = receit\n",
       "             edit = deceit\n",
       "             type = replace\n",
       "             edit word probaility = 3.585562731660967e-06\n",
       "             keyboard_distance = 2\n",
       "             levenshtein distance = 1\n",
       "             previous edit = \n",
       "                 None\n",
       "         ,\n",
       " \n",
       "         Edit of\n",
       "             content = receit\n",
       "             edit = recent\n",
       "             type = replace\n",
       "             edit word probaility = 4.750870619450781e-05\n",
       "             keyboard_distance = 4\n",
       "             levenshtein distance = 1\n",
       "             previous edit = \n",
       "                 None\n",
       "         ]"
      ]
     },
     "execution_count": 118,
     "metadata": {},
     "output_type": "execute_result"
    }
   ],
   "source": [
    "candidates = list(checker.candidates(\"receit\")) # receipt\n",
    "candidates.sort(key = lambda x: checker.P(x), reverse = True)\n",
    "candidates.sort(key = lambda x: x.keyboard_distance)\n",
    "candidates.sort(key = lambda x: x.edit_type.value)\n",
    "candidates"
   ]
  },
  {
   "cell_type": "code",
   "execution_count": 108,
   "id": "7ea099e5",
   "metadata": {},
   "outputs": [
    {
     "data": {
      "text/plain": [
       "[(0.0, 'deceit'), (0.0, 'recent'), (0.0, 'receipt')]"
      ]
     },
     "execution_count": 108,
     "metadata": {},
     "output_type": "execute_result"
    }
   ],
   "source": [
    "candidates = list(checker.candidates(\"receit\")) # receipt\n",
    "[(edit.probability(), edit.edit) for edit in candidates]"
   ]
  },
  {
   "cell_type": "code",
   "execution_count": 110,
   "id": "09dde287",
   "metadata": {},
   "outputs": [
    {
     "data": {
      "text/plain": [
       "\n",
       "        Edit of\n",
       "            content = mre\n",
       "            edit = more\n",
       "            type = insert\n",
       "            edit word probaility = 0.001790092193781738\n",
       "            keyboard_distance = 4\n",
       "            levenshtein distance = 1\n",
       "            previous edit = \n",
       "                None\n",
       "        "
      ]
     },
     "execution_count": 110,
     "metadata": {},
     "output_type": "execute_result"
    }
   ],
   "source": [
    "checker.correction(\"mre\")"
   ]
  },
  {
   "cell_type": "code",
   "execution_count": 111,
   "id": "83c2d2a4",
   "metadata": {},
   "outputs": [
    {
     "data": {
      "text/plain": [
       "{\n",
       "         Edit of\n",
       "             content = mre\n",
       "             edit = are\n",
       "             type = replace\n",
       "             edit word probaility = 0.0032538981789823275\n",
       "             keyboard_distance = 7\n",
       "             levenshtein distance = 1\n",
       "             previous edit = \n",
       "                 None\n",
       "         ,\n",
       " \n",
       "         Edit of\n",
       "             content = mre\n",
       "             edit = ere\n",
       "             type = replace\n",
       "             edit word probaility = 8.963906829152417e-07\n",
       "             keyboard_distance = 6\n",
       "             levenshtein distance = 1\n",
       "             previous edit = \n",
       "                 None\n",
       "         ,\n",
       " \n",
       "         Edit of\n",
       "             content = mre\n",
       "             edit = ire\n",
       "             type = replace\n",
       "             edit word probaility = 8.963906829152417e-07\n",
       "             keyboard_distance = 3\n",
       "             levenshtein distance = 1\n",
       "             previous edit = \n",
       "                 None\n",
       "         ,\n",
       " \n",
       "         Edit of\n",
       "             content = mre\n",
       "             edit = mare\n",
       "             type = insert\n",
       "             edit word probaility = 4.481953414576209e-06\n",
       "             keyboard_distance = 7\n",
       "             levenshtein distance = 1\n",
       "             previous edit = \n",
       "                 None\n",
       "         ,\n",
       " \n",
       "         Edit of\n",
       "             content = mre\n",
       "             edit = me\n",
       "             type = delete\n",
       "             edit word probaility = 0.0017210701111972642\n",
       "             keyboard_distance = 1\n",
       "             levenshtein distance = 1\n",
       "             previous edit = \n",
       "                 None\n",
       "         ,\n",
       " \n",
       "         Edit of\n",
       "             content = mre\n",
       "             edit = mere\n",
       "             type = insert\n",
       "             edit word probaility = 7.08148639503041e-05\n",
       "             keyboard_distance = 6\n",
       "             levenshtein distance = 1\n",
       "             previous edit = \n",
       "                 None\n",
       "         ,\n",
       " \n",
       "         Edit of\n",
       "             content = mre\n",
       "             edit = more\n",
       "             type = insert\n",
       "             edit word probaility = 0.001790092193781738\n",
       "             keyboard_distance = 4\n",
       "             levenshtein distance = 1\n",
       "             previous edit = \n",
       "                 None\n",
       "         ,\n",
       " \n",
       "         Edit of\n",
       "             content = mre\n",
       "             edit = mr\n",
       "             type = delete\n",
       "             edit word probaility = 0.00032270064584948705\n",
       "             keyboard_distance = 0\n",
       "             levenshtein distance = 1\n",
       "             previous edit = \n",
       "                 None\n",
       "         ,\n",
       " \n",
       "         Edit of\n",
       "             content = mre\n",
       "             edit = mrs\n",
       "             type = replace\n",
       "             edit word probaility = 5.288705029199927e-05\n",
       "             keyboard_distance = 2\n",
       "             levenshtein distance = 1\n",
       "             previous edit = \n",
       "                 None\n",
       "         ,\n",
       " \n",
       "         Edit of\n",
       "             content = mre\n",
       "             edit = ore\n",
       "             type = replace\n",
       "             edit word probaility = 2.6891720487457255e-06\n",
       "             keyboard_distance = 4\n",
       "             levenshtein distance = 1\n",
       "             previous edit = \n",
       "                 None\n",
       "         ,\n",
       " \n",
       "         Edit of\n",
       "             content = mre\n",
       "             edit = pre\n",
       "             type = replace\n",
       "             edit word probaility = 1.3445860243728626e-05\n",
       "             keyboard_distance = 5\n",
       "             levenshtein distance = 1\n",
       "             previous edit = \n",
       "                 None\n",
       "         ,\n",
       " \n",
       "         Edit of\n",
       "             content = mre\n",
       "             edit = re\n",
       "             type = delete\n",
       "             edit word probaility = 0.00016941783907098069\n",
       "             keyboard_distance = -1\n",
       "             levenshtein distance = 1\n",
       "             previous edit = \n",
       "                 None\n",
       "         }"
      ]
     },
     "execution_count": 111,
     "metadata": {},
     "output_type": "execute_result"
    }
   ],
   "source": [
    "candidates = checker.candidates(\"mre\") # more\n",
    "candidates"
   ]
  },
  {
   "cell_type": "code",
   "execution_count": 87,
   "id": "f4643f8e",
   "metadata": {},
   "outputs": [
    {
     "data": {
      "text/plain": [
       "\n",
       "        Edit\n",
       "            content = ever\n",
       "            type = replace\n",
       "            previous edit = \n",
       "                None\n",
       "            keyboard_distance = 3\n",
       "        "
      ]
     },
     "execution_count": 87,
     "metadata": {},
     "output_type": "execute_result"
    }
   ],
   "source": [
    "checker.correction(\"evar\")"
   ]
  },
  {
   "cell_type": "code",
   "execution_count": 35,
   "id": "304027d0",
   "metadata": {},
   "outputs": [
    {
     "data": {
      "text/plain": [
       "{\n",
       "         Edit\n",
       "             content = ear\n",
       "             type = delete\n",
       "             previous edit = \n",
       "                 None\n",
       "             keyboard_distance = 2\n",
       "         ,\n",
       " \n",
       "         Edit\n",
       "             content = eva\n",
       "             type = delete\n",
       "             previous edit = \n",
       "                 None\n",
       "             keyboard_distance = 0\n",
       "         ,\n",
       " \n",
       "         Edit\n",
       "             content = ever\n",
       "             type = replace\n",
       "             previous edit = \n",
       "                 None\n",
       "             keyboard_distance = 3\n",
       "         }"
      ]
     },
     "execution_count": 35,
     "metadata": {},
     "output_type": "execute_result"
    }
   ],
   "source": [
    "candidates = checker.candidates(\"evar\") # ever\n",
    "candidates"
   ]
  },
  {
   "cell_type": "code",
   "execution_count": 12,
   "id": "a5d1edab",
   "metadata": {},
   "outputs": [],
   "source": [
    "import nltk\n",
    "from nltk.util import ngrams\n",
    "\n",
    "class NGramModel:\n",
    "    \n",
    "    def __init__(self, language: str):\n",
    "        file_to_open = f'texts/big_{\"en\"}.txt'\n",
    "        with open(file_to_open, \"r\") as file:\n",
    "            corpus = file.read()\n",
    "            \n",
    "        tokenized_text = nltk.word_tokenize(corpus)\n",
    "        self.trigrams = list(ngrams(tokenized_text, 3))\n",
    "        \n",
    "    def predict_next_word(self, sentence, possible_words):\n",
    "        tokenized_sentence = nltk.word_tokenize(sentence)\n",
    "        w1, w2 = tokenized_sentence[-2:]  # Get the last two words from the sentence\n",
    "\n",
    "        probabilities = {}\n",
    "        for trigram in self.trigrams:\n",
    "            if trigram[:2] == (w1, w2):\n",
    "                word = trigram[2]\n",
    "                probabilities[word] = probabilities.get(word, 0) + 1\n",
    "\n",
    "        total_count = sum(probabilities.values())\n",
    "        probabilities = {word: count / total_count for word, count in probabilities.items()}\n",
    "        \n",
    "        if max(probabilities, key=probabilities.get) == 0:\n",
    "            return None\n",
    "        else:\n",
    "            return max(probabilities, key=probabilities.get)\n"
   ]
  },
  {
   "cell_type": "code",
   "execution_count": 18,
   "id": "4b6030fc",
   "metadata": {},
   "outputs": [],
   "source": [
    "sentence = \"I am going\"\n",
    "possible_words = [\"to\", \"home\", \"work\", \"shopping\"]"
   ]
  },
  {
   "cell_type": "code",
   "execution_count": 17,
   "id": "0b7ba776",
   "metadata": {},
   "outputs": [],
   "source": [
    "ngram_model = NGramModel(\"en\")"
   ]
  },
  {
   "cell_type": "code",
   "execution_count": 19,
   "id": "cb67da0e",
   "metadata": {},
   "outputs": [
    {
     "data": {
      "text/plain": [
       "'to'"
      ]
     },
     "execution_count": 19,
     "metadata": {},
     "output_type": "execute_result"
    }
   ],
   "source": [
    "ngram_model.predict_next_word(sentence, possible_words)"
   ]
  },
  {
   "cell_type": "code",
   "execution_count": null,
   "id": "274ec714",
   "metadata": {},
   "outputs": [],
   "source": [
    "sentence = \"I am going to\""
   ]
  },
  {
   "cell_type": "code",
   "execution_count": 16,
   "id": "1e39bf5b",
   "metadata": {},
   "outputs": [
    {
     "data": {
      "text/plain": [
       "'i am going'"
      ]
     },
     "execution_count": 16,
     "metadata": {},
     "output_type": "execute_result"
    }
   ],
   "source": [
    "sentence.replace(\"I\", \"i\")"
   ]
  },
  {
   "cell_type": "code",
   "execution_count": null,
   "id": "4443f533",
   "metadata": {},
   "outputs": [],
   "source": []
  }
 ],
 "metadata": {
  "kernelspec": {
   "display_name": "Python 3 (ipykernel)",
   "language": "python",
   "name": "python3"
  },
  "language_info": {
   "codemirror_mode": {
    "name": "ipython",
    "version": 3
   },
   "file_extension": ".py",
   "mimetype": "text/x-python",
   "name": "python",
   "nbconvert_exporter": "python",
   "pygments_lexer": "ipython3",
   "version": "3.9.13"
  }
 },
 "nbformat": 4,
 "nbformat_minor": 5
}
