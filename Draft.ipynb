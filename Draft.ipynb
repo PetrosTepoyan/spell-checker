{
 "cells": [
  {
   "cell_type": "markdown",
   "id": "7d31658f",
   "metadata": {},
   "source": [
    "ideas\n",
    "\n",
    "if edit1 word is less common that edit2 word, then choose edit2 \n"
   ]
  },
  {
   "cell_type": "code",
   "execution_count": 1,
   "id": "fad4cdd6",
   "metadata": {},
   "outputs": [],
   "source": [
    "from enum import Enum\n",
    "\n",
    "class EditType(Enum):\n",
    "    none = 0\n",
    "    insert = 1\n",
    "    replace = 2\n",
    "    delete = 3\n",
    "    transpose = 4\n",
    "    \n",
    "    def __lt__(self, other):\n",
    "        self.value < other.value\n",
    "    \n",
    "\n",
    "class Edit:\n",
    "    \n",
    "    def __init__(self, edit, edit_type: EditType = EditType.none, prev_edit = None, keyboard_distance = -1):\n",
    "        self.edit = edit\n",
    "        self.edit_type = edit_type\n",
    "        self.prev_edit = prev_edit\n",
    "        self.keyboard_distance = keyboard_distance\n",
    "        \n",
    "    def __hash__(self):\n",
    "        return hash((self.edit, self.edit_type))\n",
    "\n",
    "    def __eq__(self,other):\n",
    "        return self.edit == other.edit and self.edit_type == other.edit_type\n",
    "    \n",
    "    def __repr__(self):\n",
    "        return f\"\"\"\n",
    "        Edit\n",
    "            content = {self.edit}\n",
    "            type = {self.edit_type.name}\n",
    "            previous edit = \n",
    "                {self.prev_edit}\n",
    "            keyboard_distance = {self.keyboard_distance}\n",
    "        \"\"\"\n",
    "    "
   ]
  },
  {
   "cell_type": "code",
   "execution_count": 2,
   "id": "b54a6d6a",
   "metadata": {},
   "outputs": [],
   "source": [
    "import re\n",
    "from collections import Counter\n",
    "from constants import keyboard_letters, neighbour_letters, keyboard_layouts\n",
    "\n",
    "class SpellChecker:\n",
    "    \n",
    "    def __init__(self, language = \"en\"):\n",
    "        \n",
    "        file_to_open = f'big_{language}.txt'\n",
    "        \n",
    "        with open(file_to_open, \"r\") as file:\n",
    "            raw_text = file.read()\n",
    "            raw_words = re.findall(r'\\w+', raw_text.lower())\n",
    "            self.WORDS = Counter(raw_words)\n",
    "        \n",
    "        self.N = sum(self.WORDS.values())\n",
    "        self.letters = keyboard_letters[language]\n",
    "        self.neighbour_letters = neighbour_letters[language]\n",
    "        self.keyboard_layout = keyboard_layouts[language]\n",
    "        \n",
    "    def keyboard_distance(self, key1, key2):\n",
    "\n",
    "        key_coordinates = {}\n",
    "\n",
    "        for i, row in enumerate(self.keyboard_layout):\n",
    "            for j, key in enumerate(row):\n",
    "                key_coordinates[key] = (i, j)\n",
    "\n",
    "        if key1 not in key_coordinates or key2 not in key_coordinates:\n",
    "            raise ValueError(\"Both keys must be on the keyboard\")\n",
    "\n",
    "        x1, y1 = key_coordinates[key1]\n",
    "        x2, y2 = key_coordinates[key2]\n",
    "\n",
    "        return abs(x1 - x2) + abs(y1 - y2)\n",
    "        \n",
    "    def P(self, edit: Edit): \n",
    "        \"Probability of `edit`.\"\n",
    "        \n",
    "        # first sort by probability, then sort by edit_type, then sort by keyboard distance, if any\n",
    "        return self.WORDS[edit.edit] / self.N\n",
    "\n",
    "    def correction(self, word): \n",
    "        \"Most probable spelling correction for word.\"\n",
    "        \n",
    "        # correction is defined as following:\n",
    "        candidates = list(self.candidates(word))\n",
    "        \n",
    "        candidates.sort(key = lambda x: checker.P(x), reverse = True)\n",
    "        candidates.sort(key = lambda x: x.keyboard_distance)\n",
    "        candidates.sort(key = lambda x: x.edit_type.value)\n",
    "        \n",
    "        return candidates[0]\n",
    "\n",
    "    def candidates(self, word): \n",
    "        \"Generate possible spelling corrections for word.\"\n",
    "        return (self.known([Edit(word)]) or self.known(self.edits1(word)) or self.known(self.edits2(word)) or [Edit(word)])\n",
    "\n",
    "    def known(self, edits): \n",
    "        \"The subset of `words` that appear in the dictionary of WORDS.\"\n",
    "        return set(w for w in edits if w.edit in self.WORDS)\n",
    "\n",
    "    def edits1(self, word, prev_edit: Edit = None):\n",
    "        \"All edits that are one edit away from `word`.\"\n",
    "        splits     = [(word[:i], word[i:])    for i in range(len(word) + 1)]\n",
    "        \n",
    "        deletes    = set(self.__edits_deletes(splits, prev_edit))\n",
    "        transposes = set(self.__edits_transposes(splits, prev_edit))\n",
    "        replaces   = set(self.__edits_replaces(splits, prev_edit))\n",
    "        inserts    = set(self.__edits_inserts(splits, prev_edit))\n",
    "        all_set = deletes.union(transposes).union(replaces).union(inserts)\n",
    "        return all_set\n",
    "\n",
    "    def edits2(self, word): \n",
    "        \"All edits that are two edits away from `word`.\"\n",
    "        return (e2 for e1 in self.edits1(word) for e2 in self.edits1(e1.edit, prev_edit = e1))\n",
    "    \n",
    "    def __edits_transposes(self, splits, prev_edit: Edit):\n",
    "        return {Edit(L + R[1] + R[0] + R[2:], EditType.transpose, prev_edit, 0) for L, R in splits if len(R)>1}\n",
    "    \n",
    "    def __edits_inserts(self, splits, prev_edit: Edit):\n",
    "        for L, R in splits:\n",
    "            for c in self.letters:\n",
    "                \n",
    "                # Left's distance\n",
    "                if len(L) > 0:\n",
    "                    left = L[-1]\n",
    "                    L_distance = self.keyboard_distance(left, c)\n",
    "                else:\n",
    "                    L_distance = -1\n",
    "                \n",
    "                yield Edit(L + c + R, EditType.insert, prev_edit, L_distance)\n",
    "    \n",
    "    def __edits_deletes(self, splits, prev_edit: Edit):\n",
    "        for L, R in splits:\n",
    "            if R:\n",
    "                omitted = R[0]\n",
    "                \n",
    "                # Left's distance\n",
    "                if len(L) > 0:\n",
    "                    left = L[-1]\n",
    "                    L_distance = self.keyboard_distance(left, omitted)\n",
    "                else:\n",
    "                    L_distance = -1\n",
    "                    \n",
    "                # Left's distance\n",
    "                if len(R) > 0:\n",
    "                    right = R[-1]\n",
    "                    R_distance = self.keyboard_distance(right, omitted)\n",
    "                else:\n",
    "                    R_distance = -1\n",
    "                \n",
    "                key_distance = min(L_distance, R_distance)\n",
    "\n",
    "                yield Edit(L + R[1:], EditType.delete, prev_edit, key_distance)\n",
    "    \n",
    "    def __edits_replaces(self, splits, prev_edit: Edit):\n",
    "        for L, R in splits:\n",
    "            if R:\n",
    "                for c in self.letters:\n",
    "                    \n",
    "                    omitted = R[0]\n",
    "                    key_distance = self.keyboard_distance(c, omitted)\n",
    "                    \n",
    "                    yield Edit(L + c + R[1:], EditType.replace, prev_edit, key_distance)\n",
    "    "
   ]
  },
  {
   "cell_type": "code",
   "execution_count": 3,
   "id": "950d483b",
   "metadata": {},
   "outputs": [],
   "source": [
    "checker = SpellChecker()"
   ]
  },
  {
   "cell_type": "code",
   "execution_count": 4,
   "id": "7d1bc255",
   "metadata": {},
   "outputs": [
    {
     "data": {
      "text/plain": [
       "\n",
       "        Edit\n",
       "            content = receipt\n",
       "            type = insert\n",
       "            previous edit = \n",
       "                None\n",
       "            keyboard_distance = 2\n",
       "        "
      ]
     },
     "execution_count": 4,
     "metadata": {},
     "output_type": "execute_result"
    }
   ],
   "source": [
    "checker.correction(\"receit\")"
   ]
  },
  {
   "cell_type": "code",
   "execution_count": 5,
   "id": "f337b5dc",
   "metadata": {},
   "outputs": [
    {
     "data": {
      "text/plain": [
       "[\n",
       "         Edit\n",
       "             content = receipt\n",
       "             type = insert\n",
       "             previous edit = \n",
       "                 None\n",
       "             keyboard_distance = 2\n",
       "         ,\n",
       " \n",
       "         Edit\n",
       "             content = deceit\n",
       "             type = replace\n",
       "             previous edit = \n",
       "                 None\n",
       "             keyboard_distance = 2\n",
       "         ,\n",
       " \n",
       "         Edit\n",
       "             content = recent\n",
       "             type = replace\n",
       "             previous edit = \n",
       "                 None\n",
       "             keyboard_distance = 4\n",
       "         ]"
      ]
     },
     "execution_count": 5,
     "metadata": {},
     "output_type": "execute_result"
    }
   ],
   "source": [
    "candidates = list(checker.candidates(\"receit\")) # receipt\n",
    "candidates.sort(key = lambda x: checker.P(x), reverse = True)\n",
    "candidates.sort(key = lambda x: x.keyboard_distance)\n",
    "candidates.sort(key = lambda x: x.edit_type.value)\n",
    "candidates"
   ]
  },
  {
   "cell_type": "code",
   "execution_count": 85,
   "id": "5f34af1f",
   "metadata": {},
   "outputs": [
    {
     "data": {
      "text/plain": [
       "4.750870619450781e-05"
      ]
     },
     "execution_count": 85,
     "metadata": {},
     "output_type": "execute_result"
    }
   ],
   "source": [
    "checker.P(Edit(\"recent\"))"
   ]
  },
  {
   "cell_type": "code",
   "execution_count": 86,
   "id": "09dde287",
   "metadata": {},
   "outputs": [
    {
     "data": {
      "text/plain": [
       "\n",
       "        Edit\n",
       "            content = more\n",
       "            type = insert\n",
       "            previous edit = \n",
       "                None\n",
       "            keyboard_distance = 4\n",
       "        "
      ]
     },
     "execution_count": 86,
     "metadata": {},
     "output_type": "execute_result"
    }
   ],
   "source": [
    "checker.correction(\"mre\")"
   ]
  },
  {
   "cell_type": "code",
   "execution_count": 54,
   "id": "83c2d2a4",
   "metadata": {},
   "outputs": [
    {
     "data": {
      "text/plain": [
       "{\n",
       "         Edit\n",
       "             content = are\n",
       "             type = replace\n",
       "             previous edit = \n",
       "                 None\n",
       "             keyboard_distance = 7\n",
       "         ,\n",
       " \n",
       "         Edit\n",
       "             content = ere\n",
       "             type = replace\n",
       "             previous edit = \n",
       "                 None\n",
       "             keyboard_distance = 6\n",
       "         ,\n",
       " \n",
       "         Edit\n",
       "             content = ire\n",
       "             type = replace\n",
       "             previous edit = \n",
       "                 None\n",
       "             keyboard_distance = 3\n",
       "         ,\n",
       " \n",
       "         Edit\n",
       "             content = mare\n",
       "             type = insert\n",
       "             previous edit = \n",
       "                 None\n",
       "             keyboard_distance = 7\n",
       "         ,\n",
       " \n",
       "         Edit\n",
       "             content = me\n",
       "             type = delete\n",
       "             previous edit = \n",
       "                 None\n",
       "             keyboard_distance = 1\n",
       "         ,\n",
       " \n",
       "         Edit\n",
       "             content = mere\n",
       "             type = insert\n",
       "             previous edit = \n",
       "                 None\n",
       "             keyboard_distance = 6\n",
       "         ,\n",
       " \n",
       "         Edit\n",
       "             content = more\n",
       "             type = insert\n",
       "             previous edit = \n",
       "                 None\n",
       "             keyboard_distance = 4\n",
       "         ,\n",
       " \n",
       "         Edit\n",
       "             content = mr\n",
       "             type = delete\n",
       "             previous edit = \n",
       "                 None\n",
       "             keyboard_distance = 0\n",
       "         ,\n",
       " \n",
       "         Edit\n",
       "             content = mrs\n",
       "             type = replace\n",
       "             previous edit = \n",
       "                 None\n",
       "             keyboard_distance = 2\n",
       "         ,\n",
       " \n",
       "         Edit\n",
       "             content = ore\n",
       "             type = replace\n",
       "             previous edit = \n",
       "                 None\n",
       "             keyboard_distance = 4\n",
       "         ,\n",
       " \n",
       "         Edit\n",
       "             content = pre\n",
       "             type = replace\n",
       "             previous edit = \n",
       "                 None\n",
       "             keyboard_distance = 5\n",
       "         ,\n",
       " \n",
       "         Edit\n",
       "             content = re\n",
       "             type = delete\n",
       "             previous edit = \n",
       "                 None\n",
       "             keyboard_distance = -1\n",
       "         }"
      ]
     },
     "execution_count": 54,
     "metadata": {},
     "output_type": "execute_result"
    }
   ],
   "source": [
    "candidates = checker.candidates(\"mre\") # more\n",
    "candidates"
   ]
  },
  {
   "cell_type": "code",
   "execution_count": 87,
   "id": "f4643f8e",
   "metadata": {},
   "outputs": [
    {
     "data": {
      "text/plain": [
       "\n",
       "        Edit\n",
       "            content = ever\n",
       "            type = replace\n",
       "            previous edit = \n",
       "                None\n",
       "            keyboard_distance = 3\n",
       "        "
      ]
     },
     "execution_count": 87,
     "metadata": {},
     "output_type": "execute_result"
    }
   ],
   "source": [
    "checker.correction(\"evar\")"
   ]
  },
  {
   "cell_type": "code",
   "execution_count": 35,
   "id": "304027d0",
   "metadata": {},
   "outputs": [
    {
     "data": {
      "text/plain": [
       "{\n",
       "         Edit\n",
       "             content = ear\n",
       "             type = delete\n",
       "             previous edit = \n",
       "                 None\n",
       "             keyboard_distance = 2\n",
       "         ,\n",
       " \n",
       "         Edit\n",
       "             content = eva\n",
       "             type = delete\n",
       "             previous edit = \n",
       "                 None\n",
       "             keyboard_distance = 0\n",
       "         ,\n",
       " \n",
       "         Edit\n",
       "             content = ever\n",
       "             type = replace\n",
       "             previous edit = \n",
       "                 None\n",
       "             keyboard_distance = 3\n",
       "         }"
      ]
     },
     "execution_count": 35,
     "metadata": {},
     "output_type": "execute_result"
    }
   ],
   "source": [
    "candidates = checker.candidates(\"evar\") # ever\n",
    "candidates"
   ]
  },
  {
   "cell_type": "code",
   "execution_count": null,
   "id": "ba6e93e4",
   "metadata": {},
   "outputs": [],
   "source": []
  },
  {
   "cell_type": "code",
   "execution_count": null,
   "id": "d9985d22",
   "metadata": {},
   "outputs": [],
   "source": []
  }
 ],
 "metadata": {
  "kernelspec": {
   "display_name": "Python 3 (ipykernel)",
   "language": "python",
   "name": "python3"
  },
  "language_info": {
   "codemirror_mode": {
    "name": "ipython",
    "version": 3
   },
   "file_extension": ".py",
   "mimetype": "text/x-python",
   "name": "python",
   "nbconvert_exporter": "python",
   "pygments_lexer": "ipython3",
   "version": "3.10.11"
  }
 },
 "nbformat": 4,
 "nbformat_minor": 5
}
