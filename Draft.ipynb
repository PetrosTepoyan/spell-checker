{
 "cells": [
  {
   "cell_type": "code",
   "execution_count": null,
   "id": "d7fb8840",
   "metadata": {},
   "outputs": [],
   "source": []
  },
  {
   "cell_type": "code",
   "execution_count": null,
   "id": "d909fac3",
   "metadata": {},
   "outputs": [],
   "source": [
    "correct = [\"գիրք\", \"տետր\", \"պատուհան\", \"Կարինե\", \"կարտոֆիլ\", \"գրիչ\", \"անհավանական\", \"քննություն\", \"արհեստական\", \"բնական\", \"համակարգիչ\", \"մատիտ\", \"սեղան\", \"գրատախտակ\", \"ականջակալ\", \"քաղաք\", \"հանրապետություն\", \"թուղթ\", \"գրադարան\", \"վարձակալություն\", \"գրագետ\"]\n",
    "correct = [\"գիրտ\", \"տետհ\", \"պատուեան\", \"ուարինե\", \"կարտոֆիլ\", \"գրիչ\", \"անհավանական\", \"քննություն\", \"արհեստական\", \"բնական\", \"համակարգիչ\", \"մատիտ\", \"սեղան\", \"գրատախտակ\", \"ականջակալ\", \"քաղաք\", \"հանրապետություն\", \"թուղթ\", \"գրադարան\", \"վարձակալություն\", \"գրագետ\"]\n"
   ]
  },
  {
   "cell_type": "code",
   "execution_count": 115,
   "id": "950d483b",
   "metadata": {},
   "outputs": [],
   "source": [
    "checker = SpellChecker()"
   ]
  },
  {
   "cell_type": "code",
   "execution_count": 116,
   "id": "2bdc709a",
   "metadata": {},
   "outputs": [
    {
     "data": {
      "text/plain": [
       "32198"
      ]
     },
     "execution_count": 116,
     "metadata": {},
     "output_type": "execute_result"
    }
   ],
   "source": [
    "len(checker.WORDS)"
   ]
  },
  {
   "cell_type": "code",
   "execution_count": 117,
   "id": "7d1bc255",
   "metadata": {},
   "outputs": [
    {
     "data": {
      "text/plain": [
       "\n",
       "        Edit of\n",
       "            content = receit\n",
       "            edit = receipt\n",
       "            type = insert\n",
       "            edit word probaility = 1.1653078877898144e-05\n",
       "            keyboard_distance = 2\n",
       "            levenshtein distance = 1\n",
       "            previous edit = \n",
       "                None\n",
       "        "
      ]
     },
     "execution_count": 117,
     "metadata": {},
     "output_type": "execute_result"
    }
   ],
   "source": [
    "checker.correction(\"receit\")"
   ]
  },
  {
   "cell_type": "code",
   "execution_count": 118,
   "id": "f337b5dc",
   "metadata": {},
   "outputs": [
    {
     "data": {
      "text/plain": [
       "[\n",
       "         Edit of\n",
       "             content = receit\n",
       "             edit = receipt\n",
       "             type = insert\n",
       "             edit word probaility = 1.1653078877898144e-05\n",
       "             keyboard_distance = 2\n",
       "             levenshtein distance = 1\n",
       "             previous edit = \n",
       "                 None\n",
       "         ,\n",
       " \n",
       "         Edit of\n",
       "             content = receit\n",
       "             edit = deceit\n",
       "             type = replace\n",
       "             edit word probaility = 3.585562731660967e-06\n",
       "             keyboard_distance = 2\n",
       "             levenshtein distance = 1\n",
       "             previous edit = \n",
       "                 None\n",
       "         ,\n",
       " \n",
       "         Edit of\n",
       "             content = receit\n",
       "             edit = recent\n",
       "             type = replace\n",
       "             edit word probaility = 4.750870619450781e-05\n",
       "             keyboard_distance = 4\n",
       "             levenshtein distance = 1\n",
       "             previous edit = \n",
       "                 None\n",
       "         ]"
      ]
     },
     "execution_count": 118,
     "metadata": {},
     "output_type": "execute_result"
    }
   ],
   "source": [
    "candidates = list(checker.candidates(\"receit\")) # receipt\n",
    "candidates.sort(key = lambda x: checker.P(x), reverse = True)\n",
    "candidates.sort(key = lambda x: x.keyboard_distance)\n",
    "candidates.sort(key = lambda x: x.edit_type.value)\n",
    "candidates"
   ]
  },
  {
   "cell_type": "code",
   "execution_count": 108,
   "id": "98d7665e",
   "metadata": {},
   "outputs": [
    {
     "data": {
      "text/plain": [
       "[(0.0, 'deceit'), (0.0, 'recent'), (0.0, 'receipt')]"
      ]
     },
     "execution_count": 108,
     "metadata": {},
     "output_type": "execute_result"
    }
   ],
   "source": [
    "candidates = list(checker.candidates(\"receit\")) # receipt\n",
    "[(edit.probability(), edit.edit) for edit in candidates]"
   ]
  },
  {
   "cell_type": "code",
   "execution_count": 109,
   "id": "5f34af1f",
   "metadata": {},
   "outputs": [
    {
     "ename": "TypeError",
     "evalue": "__init__() missing 4 required positional arguments: 'edit', 'edit_type', 'edit_word_probability', and 'keyboard_distance'",
     "output_type": "error",
     "traceback": [
      "\u001b[0;31m---------------------------------------------------------------------------\u001b[0m",
      "\u001b[0;31mTypeError\u001b[0m                                 Traceback (most recent call last)",
      "Input \u001b[0;32mIn [109]\u001b[0m, in \u001b[0;36m<cell line: 1>\u001b[0;34m()\u001b[0m\n\u001b[0;32m----> 1\u001b[0m checker\u001b[38;5;241m.\u001b[39mP(\u001b[43mEdit\u001b[49m\u001b[43m(\u001b[49m\u001b[38;5;124;43m\"\u001b[39;49m\u001b[38;5;124;43mrecent\u001b[39;49m\u001b[38;5;124;43m\"\u001b[39;49m\u001b[43m)\u001b[49m)\n",
      "\u001b[0;31mTypeError\u001b[0m: __init__() missing 4 required positional arguments: 'edit', 'edit_type', 'edit_word_probability', and 'keyboard_distance'"
     ]
    }
   ],
   "source": [
    "checker.P(Edit(\"recent\"))"
   ]
  },
  {
   "cell_type": "code",
   "execution_count": 110,
   "id": "09dde287",
   "metadata": {},
   "outputs": [
    {
     "data": {
      "text/plain": [
       "\n",
       "        Edit of\n",
       "            content = mre\n",
       "            edit = more\n",
       "            type = insert\n",
       "            edit word probaility = 0.001790092193781738\n",
       "            keyboard_distance = 4\n",
       "            levenshtein distance = 1\n",
       "            previous edit = \n",
       "                None\n",
       "        "
      ]
     },
     "execution_count": 110,
     "metadata": {},
     "output_type": "execute_result"
    }
   ],
   "source": [
    "checker.correction(\"mre\")"
   ]
  },
  {
   "cell_type": "code",
   "execution_count": 111,
   "id": "83c2d2a4",
   "metadata": {},
   "outputs": [
    {
     "data": {
      "text/plain": [
       "{\n",
       "         Edit of\n",
       "             content = mre\n",
       "             edit = are\n",
       "             type = replace\n",
       "             edit word probaility = 0.0032538981789823275\n",
       "             keyboard_distance = 7\n",
       "             levenshtein distance = 1\n",
       "             previous edit = \n",
       "                 None\n",
       "         ,\n",
       " \n",
       "         Edit of\n",
       "             content = mre\n",
       "             edit = ere\n",
       "             type = replace\n",
       "             edit word probaility = 8.963906829152417e-07\n",
       "             keyboard_distance = 6\n",
       "             levenshtein distance = 1\n",
       "             previous edit = \n",
       "                 None\n",
       "         ,\n",
       " \n",
       "         Edit of\n",
       "             content = mre\n",
       "             edit = ire\n",
       "             type = replace\n",
       "             edit word probaility = 8.963906829152417e-07\n",
       "             keyboard_distance = 3\n",
       "             levenshtein distance = 1\n",
       "             previous edit = \n",
       "                 None\n",
       "         ,\n",
       " \n",
       "         Edit of\n",
       "             content = mre\n",
       "             edit = mare\n",
       "             type = insert\n",
       "             edit word probaility = 4.481953414576209e-06\n",
       "             keyboard_distance = 7\n",
       "             levenshtein distance = 1\n",
       "             previous edit = \n",
       "                 None\n",
       "         ,\n",
       " \n",
       "         Edit of\n",
       "             content = mre\n",
       "             edit = me\n",
       "             type = delete\n",
       "             edit word probaility = 0.0017210701111972642\n",
       "             keyboard_distance = 1\n",
       "             levenshtein distance = 1\n",
       "             previous edit = \n",
       "                 None\n",
       "         ,\n",
       " \n",
       "         Edit of\n",
       "             content = mre\n",
       "             edit = mere\n",
       "             type = insert\n",
       "             edit word probaility = 7.08148639503041e-05\n",
       "             keyboard_distance = 6\n",
       "             levenshtein distance = 1\n",
       "             previous edit = \n",
       "                 None\n",
       "         ,\n",
       " \n",
       "         Edit of\n",
       "             content = mre\n",
       "             edit = more\n",
       "             type = insert\n",
       "             edit word probaility = 0.001790092193781738\n",
       "             keyboard_distance = 4\n",
       "             levenshtein distance = 1\n",
       "             previous edit = \n",
       "                 None\n",
       "         ,\n",
       " \n",
       "         Edit of\n",
       "             content = mre\n",
       "             edit = mr\n",
       "             type = delete\n",
       "             edit word probaility = 0.00032270064584948705\n",
       "             keyboard_distance = 0\n",
       "             levenshtein distance = 1\n",
       "             previous edit = \n",
       "                 None\n",
       "         ,\n",
       " \n",
       "         Edit of\n",
       "             content = mre\n",
       "             edit = mrs\n",
       "             type = replace\n",
       "             edit word probaility = 5.288705029199927e-05\n",
       "             keyboard_distance = 2\n",
       "             levenshtein distance = 1\n",
       "             previous edit = \n",
       "                 None\n",
       "         ,\n",
       " \n",
       "         Edit of\n",
       "             content = mre\n",
       "             edit = ore\n",
       "             type = replace\n",
       "             edit word probaility = 2.6891720487457255e-06\n",
       "             keyboard_distance = 4\n",
       "             levenshtein distance = 1\n",
       "             previous edit = \n",
       "                 None\n",
       "         ,\n",
       " \n",
       "         Edit of\n",
       "             content = mre\n",
       "             edit = pre\n",
       "             type = replace\n",
       "             edit word probaility = 1.3445860243728626e-05\n",
       "             keyboard_distance = 5\n",
       "             levenshtein distance = 1\n",
       "             previous edit = \n",
       "                 None\n",
       "         ,\n",
       " \n",
       "         Edit of\n",
       "             content = mre\n",
       "             edit = re\n",
       "             type = delete\n",
       "             edit word probaility = 0.00016941783907098069\n",
       "             keyboard_distance = -1\n",
       "             levenshtein distance = 1\n",
       "             previous edit = \n",
       "                 None\n",
       "         }"
      ]
     },
     "execution_count": 111,
     "metadata": {},
     "output_type": "execute_result"
    }
   ],
   "source": [
    "candidates = checker.candidates(\"mre\") # more\n",
    "candidates"
   ]
  },
  {
   "cell_type": "code",
   "execution_count": 87,
   "id": "f4643f8e",
   "metadata": {},
   "outputs": [
    {
     "data": {
      "text/plain": [
       "\n",
       "        Edit\n",
       "            content = ever\n",
       "            type = replace\n",
       "            previous edit = \n",
       "                None\n",
       "            keyboard_distance = 3\n",
       "        "
      ]
     },
     "execution_count": 87,
     "metadata": {},
     "output_type": "execute_result"
    }
   ],
   "source": [
    "checker.correction(\"evar\")"
   ]
  },
  {
   "cell_type": "code",
   "execution_count": 35,
   "id": "304027d0",
   "metadata": {},
   "outputs": [
    {
     "data": {
      "text/plain": [
       "{\n",
       "         Edit\n",
       "             content = ear\n",
       "             type = delete\n",
       "             previous edit = \n",
       "                 None\n",
       "             keyboard_distance = 2\n",
       "         ,\n",
       " \n",
       "         Edit\n",
       "             content = eva\n",
       "             type = delete\n",
       "             previous edit = \n",
       "                 None\n",
       "             keyboard_distance = 0\n",
       "         ,\n",
       " \n",
       "         Edit\n",
       "             content = ever\n",
       "             type = replace\n",
       "             previous edit = \n",
       "                 None\n",
       "             keyboard_distance = 3\n",
       "         }"
      ]
     },
     "execution_count": 35,
     "metadata": {},
     "output_type": "execute_result"
    }
   ],
   "source": [
    "candidates = checker.candidates(\"evar\") # ever\n",
    "candidates"
   ]
  },
  {
   "cell_type": "code",
   "execution_count": null,
   "id": "ba6e93e4",
   "metadata": {},
   "outputs": [],
   "source": []
  },
  {
   "cell_type": "code",
   "execution_count": null,
   "id": "d9985d22",
   "metadata": {},
   "outputs": [],
   "source": []
  }
 ],
 "metadata": {
  "kernelspec": {
   "display_name": "Python 3 (ipykernel)",
   "language": "python",
   "name": "python3"
  },
  "language_info": {
   "codemirror_mode": {
    "name": "ipython",
    "version": 3
   },
   "file_extension": ".py",
   "mimetype": "text/x-python",
   "name": "python",
   "nbconvert_exporter": "python",
   "pygments_lexer": "ipython3",
   "version": "3.9.13"
  }
 },
 "nbformat": 4,
 "nbformat_minor": 5
}
