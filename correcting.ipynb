{
 "cells": [
  {
   "cell_type": "code",
   "execution_count": 3,
   "id": "5902b0e5",
   "metadata": {},
   "outputs": [],
   "source": [
    "from SpellChecker import SpellChecker\n",
    "from collections import Counter\n",
    "import re\n",
    "import pandas as pd\n",
    "import numpy as np"
   ]
  },
  {
   "cell_type": "code",
   "execution_count": 4,
   "id": "1353aa9d",
   "metadata": {},
   "outputs": [],
   "source": [
    "checker = SpellChecker()"
   ]
  },
  {
   "cell_type": "code",
   "execution_count": 5,
   "id": "5fa75a33",
   "metadata": {},
   "outputs": [],
   "source": [
    "def read_text(filename):\n",
    "    with open(filename, \"r\") as file:\n",
    "        return file.read()"
   ]
  },
  {
   "cell_type": "code",
   "execution_count": 8,
   "id": "c38a9959",
   "metadata": {},
   "outputs": [],
   "source": [
    "def evaluate_spell_checker(correction_function):\n",
    "    print(correction_function)\n",
    "    text_correct = read_text(\"text_correct.txt\").lower()\n",
    "    text_misspel = read_text(\"text_misspel.txt\").lower()\n",
    "    \n",
    "    words_original = re.findall(r'\\w+', text_correct.lower())\n",
    "    words_misspelled = re.findall(r'\\w+', text_misspel.lower())\n",
    "    edits = [correction_function(word) for word in words_misspelled]\n",
    "    \n",
    "    try:\n",
    "        words_correct = [edit.edit for edit in edits]\n",
    "    except:\n",
    "        words_correct = edits\n",
    "    \n",
    "    df = pd.DataFrame({\n",
    "        \"original\" : words_original,\n",
    "        \"missplelled\" : words_misspelled, \n",
    "        \"corrected\" : words_correct}\n",
    "    )\n",
    "    df[\"correct\"] = df.original == df.corrected\n",
    "    df[\"almost_correct\"] = (df.original.apply(lambda x: x[:-1]) == df.corrected) | df.cor\n",
    "    \n",
    "    correct_fraction = sum(df.correct) / len(df.correct)\n",
    "    almost_correct_fraction = sum(df.almost_correct) / len(df.correct)\n",
    "    \n",
    "    return df, correct_fraction, almost_correct_fraction"
   ]
  },
  {
   "cell_type": "code",
   "execution_count": 9,
   "id": "4dee6019",
   "metadata": {},
   "outputs": [
    {
     "name": "stdout",
     "output_type": "stream",
     "text": [
      "<bound method SpellChecker.correction of <SpellChecker.SpellChecker object at 0x11f73bca0>>\n",
      "0.7894736842105263\n",
      "0.039473684210526314\n"
     ]
    }
   ],
   "source": [
    "df, correct_fraction, almost_correct_fraction = evaluate_spell_checker(checker.correction)\n",
    "print(correct_fraction)\n",
    "print(almost_correct_fraction)"
   ]
  },
  {
   "cell_type": "code",
   "execution_count": 10,
   "id": "0c268403",
   "metadata": {},
   "outputs": [],
   "source": [
    "  import re\n",
    "from collections import Counter\n",
    "\n",
    "def words(text): return re.findall(r'\\w+', text.lower())\n",
    "\n",
    "WORDS = Counter(words(open('big_en.txt').read()))\n",
    "\n",
    "def P(word, N=sum(WORDS.values())): \n",
    "    \"Probability of `word`.\"\n",
    "    return WORDS[word] / N\n",
    "\n",
    "def correction(word): \n",
    "    \"Most probable spelling correction for word.\"\n",
    "    return max(candidates(word), key=P)\n",
    "\n",
    "def candidates(word): \n",
    "    \"Generate possible spelling corrections for word.\"\n",
    "    return (known([word]) or known(edits1(word)) or known(edits2(word)) or [word])\n",
    "\n",
    "def known(words): \n",
    "    \"The subset of `words` that appear in the dictionary of WORDS.\"\n",
    "    return set(w for w in words if w in WORDS)\n",
    "\n",
    "def edits1(word):\n",
    "    \"All edits that are one edit away from `word`.\"\n",
    "    letters    = 'abcdefghijklmnopqrstuvwxyz'\n",
    "    splits     = [(word[:i], word[i:])    for i in range(len(word) + 1)]\n",
    "    deletes    = [L + R[1:]               for L, R in splits if R]\n",
    "    transposes = [L + R[1] + R[0] + R[2:] for L, R in splits if len(R)>1]\n",
    "    replaces   = [L + c + R[1:]           for L, R in splits if R for c in letters]\n",
    "    inserts    = [L + c + R               for L, R in splits for c in letters]\n",
    "    return set(deletes + transposes + replaces + inserts)\n",
    "\n",
    "def edits2(word): \n",
    "    \"All edits that are two edits away from `word`.\"\n",
    "    return (e2 for e1 in edits1(word) for e2 in edits1(e1))"
   ]
  },
  {
   "cell_type": "code",
   "execution_count": 11,
   "id": "744cb61c",
   "metadata": {},
   "outputs": [
    {
     "name": "stdout",
     "output_type": "stream",
     "text": [
      "<function correction at 0x14fc5f0d0>\n"
     ]
    },
    {
     "data": {
      "text/plain": [
       "(     original missplelled  corrected  correct  almost_correct\n",
       " 0          in          in         in     True           False\n",
       " 1    nowadays    noaadays   nowadays     True           False\n",
       " 2     rapidly     paridly    rapidly     True           False\n",
       " 3   advancing   avdacning  advancing     True           False\n",
       " 4     digital      diital     distal    False           False\n",
       " ..        ...         ...        ...      ...             ...\n",
       " 71    various    variaous    various     True           False\n",
       " 72    aspects      sapect     aspect    False           False\n",
       " 73         of          of         of     True           False\n",
       " 74        our         our        our     True           False\n",
       " 75      lives        livs       lips    False           False\n",
       " \n",
       " [76 rows x 5 columns],\n",
       " 0.8552631578947368,\n",
       " 0.013157894736842105)"
      ]
     },
     "execution_count": 11,
     "metadata": {},
     "output_type": "execute_result"
    }
   ],
   "source": [
    "evaluate_spell_checker(correction)"
   ]
  },
  {
   "cell_type": "code",
   "execution_count": null,
   "id": "e2187467",
   "metadata": {},
   "outputs": [],
   "source": []
  }
 ],
 "metadata": {
  "kernelspec": {
   "display_name": "Python 3 (ipykernel)",
   "language": "python",
   "name": "python3"
  },
  "language_info": {
   "codemirror_mode": {
    "name": "ipython",
    "version": 3
   },
   "file_extension": ".py",
   "mimetype": "text/x-python",
   "name": "python",
   "nbconvert_exporter": "python",
   "pygments_lexer": "ipython3",
   "version": "3.9.13"
  }
 },
 "nbformat": 4,
 "nbformat_minor": 5
}
